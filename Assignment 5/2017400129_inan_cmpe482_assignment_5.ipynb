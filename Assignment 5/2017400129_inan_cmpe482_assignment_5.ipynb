{
 "cells": [
  {
   "cell_type": "markdown",
   "id": "9478f207",
   "metadata": {},
   "source": [
    "### İsmail Ata İnan\n",
    "\n",
    "### 2017400129\n",
    "\n",
    "# Assignment 5 Answers\n",
    "\n",
    "## Question 1"
   ]
  },
  {
   "cell_type": "code",
   "execution_count": 1,
   "id": "27060230",
   "metadata": {
    "scrolled": false
   },
   "outputs": [
    {
     "data": {
      "text/html": [
       "<div>\n",
       "<style scoped>\n",
       "    .dataframe tbody tr th:only-of-type {\n",
       "        vertical-align: middle;\n",
       "    }\n",
       "\n",
       "    .dataframe tbody tr th {\n",
       "        vertical-align: top;\n",
       "    }\n",
       "\n",
       "    .dataframe thead th {\n",
       "        text-align: right;\n",
       "    }\n",
       "</style>\n",
       "<table border=\"1\" class=\"dataframe\">\n",
       "  <thead>\n",
       "    <tr style=\"text-align: right;\">\n",
       "      <th></th>\n",
       "      <th>0</th>\n",
       "      <th>1</th>\n",
       "      <th>2</th>\n",
       "      <th>3</th>\n",
       "      <th>4</th>\n",
       "    </tr>\n",
       "  </thead>\n",
       "  <tbody>\n",
       "    <tr>\n",
       "      <th>0</th>\n",
       "      <td>7.0</td>\n",
       "      <td>3.2</td>\n",
       "      <td>4.7</td>\n",
       "      <td>1.4</td>\n",
       "      <td>0</td>\n",
       "    </tr>\n",
       "    <tr>\n",
       "      <th>1</th>\n",
       "      <td>6.4</td>\n",
       "      <td>3.2</td>\n",
       "      <td>4.5</td>\n",
       "      <td>1.5</td>\n",
       "      <td>0</td>\n",
       "    </tr>\n",
       "    <tr>\n",
       "      <th>2</th>\n",
       "      <td>6.9</td>\n",
       "      <td>3.1</td>\n",
       "      <td>4.9</td>\n",
       "      <td>1.5</td>\n",
       "      <td>0</td>\n",
       "    </tr>\n",
       "    <tr>\n",
       "      <th>3</th>\n",
       "      <td>5.5</td>\n",
       "      <td>2.3</td>\n",
       "      <td>4.0</td>\n",
       "      <td>1.3</td>\n",
       "      <td>0</td>\n",
       "    </tr>\n",
       "    <tr>\n",
       "      <th>4</th>\n",
       "      <td>6.5</td>\n",
       "      <td>2.8</td>\n",
       "      <td>4.6</td>\n",
       "      <td>1.5</td>\n",
       "      <td>0</td>\n",
       "    </tr>\n",
       "    <tr>\n",
       "      <th>...</th>\n",
       "      <td>...</td>\n",
       "      <td>...</td>\n",
       "      <td>...</td>\n",
       "      <td>...</td>\n",
       "      <td>...</td>\n",
       "    </tr>\n",
       "    <tr>\n",
       "      <th>95</th>\n",
       "      <td>6.7</td>\n",
       "      <td>3.0</td>\n",
       "      <td>5.2</td>\n",
       "      <td>2.3</td>\n",
       "      <td>1</td>\n",
       "    </tr>\n",
       "    <tr>\n",
       "      <th>96</th>\n",
       "      <td>6.3</td>\n",
       "      <td>2.5</td>\n",
       "      <td>5.0</td>\n",
       "      <td>1.9</td>\n",
       "      <td>1</td>\n",
       "    </tr>\n",
       "    <tr>\n",
       "      <th>97</th>\n",
       "      <td>6.5</td>\n",
       "      <td>3.0</td>\n",
       "      <td>5.2</td>\n",
       "      <td>2.0</td>\n",
       "      <td>1</td>\n",
       "    </tr>\n",
       "    <tr>\n",
       "      <th>98</th>\n",
       "      <td>6.2</td>\n",
       "      <td>3.4</td>\n",
       "      <td>5.4</td>\n",
       "      <td>2.3</td>\n",
       "      <td>1</td>\n",
       "    </tr>\n",
       "    <tr>\n",
       "      <th>99</th>\n",
       "      <td>5.9</td>\n",
       "      <td>3.0</td>\n",
       "      <td>5.1</td>\n",
       "      <td>1.8</td>\n",
       "      <td>1</td>\n",
       "    </tr>\n",
       "  </tbody>\n",
       "</table>\n",
       "<p>100 rows × 5 columns</p>\n",
       "</div>"
      ],
      "text/plain": [
       "      0    1    2    3  4\n",
       "0   7.0  3.2  4.7  1.4  0\n",
       "1   6.4  3.2  4.5  1.5  0\n",
       "2   6.9  3.1  4.9  1.5  0\n",
       "3   5.5  2.3  4.0  1.3  0\n",
       "4   6.5  2.8  4.6  1.5  0\n",
       "..  ...  ...  ...  ... ..\n",
       "95  6.7  3.0  5.2  2.3  1\n",
       "96  6.3  2.5  5.0  1.9  1\n",
       "97  6.5  3.0  5.2  2.0  1\n",
       "98  6.2  3.4  5.4  2.3  1\n",
       "99  5.9  3.0  5.1  1.8  1\n",
       "\n",
       "[100 rows x 5 columns]"
      ]
     },
     "execution_count": 1,
     "metadata": {},
     "output_type": "execute_result"
    }
   ],
   "source": [
    "import pandas as pd\n",
    "\n",
    "def intLabels(label):\n",
    "    if label == 'Iris-versicolor':\n",
    "        return 0\n",
    "    return 1\n",
    "\n",
    "labels = {4:intLabels}\n",
    "data = pd.read_csv('iris.data', header=None, sep=',', skiprows=50, converters=labels)\n",
    "data"
   ]
  },
  {
   "cell_type": "code",
   "execution_count": 2,
   "id": "025a7b73",
   "metadata": {
    "scrolled": true
   },
   "outputs": [
    {
     "data": {
      "text/plain": [
       "array([[7. , 3.2, 4.7, 1.4],\n",
       "       [6.4, 3.2, 4.5, 1.5],\n",
       "       [6.9, 3.1, 4.9, 1.5],\n",
       "       [5.5, 2.3, 4. , 1.3],\n",
       "       [6.5, 2.8, 4.6, 1.5],\n",
       "       [5.7, 2.8, 4.5, 1.3],\n",
       "       [6.3, 3.3, 4.7, 1.6],\n",
       "       [4.9, 2.4, 3.3, 1. ],\n",
       "       [6.6, 2.9, 4.6, 1.3],\n",
       "       [5.2, 2.7, 3.9, 1.4],\n",
       "       [5. , 2. , 3.5, 1. ],\n",
       "       [5.9, 3. , 4.2, 1.5],\n",
       "       [6. , 2.2, 4. , 1. ],\n",
       "       [6.1, 2.9, 4.7, 1.4],\n",
       "       [5.6, 2.9, 3.6, 1.3],\n",
       "       [6.7, 3.1, 4.4, 1.4],\n",
       "       [5.6, 3. , 4.5, 1.5],\n",
       "       [5.8, 2.7, 4.1, 1. ],\n",
       "       [6.2, 2.2, 4.5, 1.5],\n",
       "       [5.6, 2.5, 3.9, 1.1],\n",
       "       [5.9, 3.2, 4.8, 1.8],\n",
       "       [6.1, 2.8, 4. , 1.3],\n",
       "       [6.3, 2.5, 4.9, 1.5],\n",
       "       [6.1, 2.8, 4.7, 1.2],\n",
       "       [6.4, 2.9, 4.3, 1.3],\n",
       "       [6.6, 3. , 4.4, 1.4],\n",
       "       [6.8, 2.8, 4.8, 1.4],\n",
       "       [6.7, 3. , 5. , 1.7],\n",
       "       [6. , 2.9, 4.5, 1.5],\n",
       "       [5.7, 2.6, 3.5, 1. ],\n",
       "       [5.5, 2.4, 3.8, 1.1],\n",
       "       [5.5, 2.4, 3.7, 1. ],\n",
       "       [5.8, 2.7, 3.9, 1.2],\n",
       "       [6. , 2.7, 5.1, 1.6],\n",
       "       [5.4, 3. , 4.5, 1.5],\n",
       "       [6. , 3.4, 4.5, 1.6],\n",
       "       [6.7, 3.1, 4.7, 1.5],\n",
       "       [6.3, 2.3, 4.4, 1.3],\n",
       "       [5.6, 3. , 4.1, 1.3],\n",
       "       [5.5, 2.5, 4. , 1.3],\n",
       "       [5.5, 2.6, 4.4, 1.2],\n",
       "       [6.1, 3. , 4.6, 1.4],\n",
       "       [5.8, 2.6, 4. , 1.2],\n",
       "       [5. , 2.3, 3.3, 1. ],\n",
       "       [5.6, 2.7, 4.2, 1.3],\n",
       "       [5.7, 3. , 4.2, 1.2],\n",
       "       [5.7, 2.9, 4.2, 1.3],\n",
       "       [6.2, 2.9, 4.3, 1.3],\n",
       "       [5.1, 2.5, 3. , 1.1],\n",
       "       [5.7, 2.8, 4.1, 1.3],\n",
       "       [6.3, 3.3, 6. , 2.5],\n",
       "       [5.8, 2.7, 5.1, 1.9],\n",
       "       [7.1, 3. , 5.9, 2.1],\n",
       "       [6.3, 2.9, 5.6, 1.8],\n",
       "       [6.5, 3. , 5.8, 2.2],\n",
       "       [7.6, 3. , 6.6, 2.1],\n",
       "       [4.9, 2.5, 4.5, 1.7],\n",
       "       [7.3, 2.9, 6.3, 1.8],\n",
       "       [6.7, 2.5, 5.8, 1.8],\n",
       "       [7.2, 3.6, 6.1, 2.5],\n",
       "       [6.5, 3.2, 5.1, 2. ],\n",
       "       [6.4, 2.7, 5.3, 1.9],\n",
       "       [6.8, 3. , 5.5, 2.1],\n",
       "       [5.7, 2.5, 5. , 2. ],\n",
       "       [5.8, 2.8, 5.1, 2.4],\n",
       "       [6.4, 3.2, 5.3, 2.3],\n",
       "       [6.5, 3. , 5.5, 1.8],\n",
       "       [7.7, 3.8, 6.7, 2.2],\n",
       "       [7.7, 2.6, 6.9, 2.3],\n",
       "       [6. , 2.2, 5. , 1.5],\n",
       "       [6.9, 3.2, 5.7, 2.3],\n",
       "       [5.6, 2.8, 4.9, 2. ],\n",
       "       [7.7, 2.8, 6.7, 2. ],\n",
       "       [6.3, 2.7, 4.9, 1.8],\n",
       "       [6.7, 3.3, 5.7, 2.1],\n",
       "       [7.2, 3.2, 6. , 1.8],\n",
       "       [6.2, 2.8, 4.8, 1.8],\n",
       "       [6.1, 3. , 4.9, 1.8],\n",
       "       [6.4, 2.8, 5.6, 2.1],\n",
       "       [7.2, 3. , 5.8, 1.6],\n",
       "       [7.4, 2.8, 6.1, 1.9],\n",
       "       [7.9, 3.8, 6.4, 2. ],\n",
       "       [6.4, 2.8, 5.6, 2.2],\n",
       "       [6.3, 2.8, 5.1, 1.5],\n",
       "       [6.1, 2.6, 5.6, 1.4],\n",
       "       [7.7, 3. , 6.1, 2.3],\n",
       "       [6.3, 3.4, 5.6, 2.4],\n",
       "       [6.4, 3.1, 5.5, 1.8],\n",
       "       [6. , 3. , 4.8, 1.8],\n",
       "       [6.9, 3.1, 5.4, 2.1],\n",
       "       [6.7, 3.1, 5.6, 2.4],\n",
       "       [6.9, 3.1, 5.1, 2.3],\n",
       "       [5.8, 2.7, 5.1, 1.9],\n",
       "       [6.8, 3.2, 5.9, 2.3],\n",
       "       [6.7, 3.3, 5.7, 2.5],\n",
       "       [6.7, 3. , 5.2, 2.3],\n",
       "       [6.3, 2.5, 5. , 1.9],\n",
       "       [6.5, 3. , 5.2, 2. ],\n",
       "       [6.2, 3.4, 5.4, 2.3],\n",
       "       [5.9, 3. , 5.1, 1.8]])"
      ]
     },
     "execution_count": 2,
     "metadata": {},
     "output_type": "execute_result"
    }
   ],
   "source": [
    "import numpy as np\n",
    "\n",
    "allMatrix = np.array(data)\n",
    "A = allMatrix[:, :-1]\n",
    "A"
   ]
  },
  {
   "cell_type": "code",
   "execution_count": 3,
   "id": "63ab93d6",
   "metadata": {},
   "outputs": [
    {
     "data": {
      "text/plain": [
       "array([0., 0., 0., 0., 0., 0., 0., 0., 0., 0., 0., 0., 0., 0., 0., 0., 0.,\n",
       "       0., 0., 0., 0., 0., 0., 0., 0., 0., 0., 0., 0., 0., 0., 0., 0., 0.,\n",
       "       0., 0., 0., 0., 0., 0., 0., 0., 0., 0., 0., 0., 0., 0., 0., 0., 1.,\n",
       "       1., 1., 1., 1., 1., 1., 1., 1., 1., 1., 1., 1., 1., 1., 1., 1., 1.,\n",
       "       1., 1., 1., 1., 1., 1., 1., 1., 1., 1., 1., 1., 1., 1., 1., 1., 1.,\n",
       "       1., 1., 1., 1., 1., 1., 1., 1., 1., 1., 1., 1., 1., 1., 1.])"
      ]
     },
     "execution_count": 3,
     "metadata": {},
     "output_type": "execute_result"
    }
   ],
   "source": [
    "y = allMatrix[:, -1]\n",
    "y"
   ]
  },
  {
   "cell_type": "markdown",
   "id": "6f8d64b1",
   "metadata": {},
   "source": [
    "### a)"
   ]
  },
  {
   "cell_type": "code",
   "execution_count": 4,
   "id": "fd80a2ca",
   "metadata": {
    "scrolled": true
   },
   "outputs": [
    {
     "data": {
      "text/plain": [
       "array([[-9.09334551e+00, -7.73055801e-01],\n",
       "       [-8.56392186e+00, -5.51651121e-01],\n",
       "       [-9.12172864e+00, -5.14994149e-01],\n",
       "       [-7.28861750e+00, -2.45294339e-01],\n",
       "       [-8.56102824e+00, -4.14362187e-01],\n",
       "       [-7.88501793e+00, -1.81096366e-01],\n",
       "       [-8.65856249e+00, -3.55296412e-01],\n",
       "       [-6.42798884e+00, -5.74073841e-01],\n",
       "       [-8.62736845e+00, -5.95648348e-01],\n",
       "       [-7.16623032e+00, -2.32821886e-01],\n",
       "       [-6.48226653e+00, -3.73213162e-01],\n",
       "       [-7.96390016e+00, -4.32175936e-01],\n",
       "       [-7.55888112e+00, -6.14028335e-01],\n",
       "       [-8.34190881e+00, -2.33225132e-01],\n",
       "       [-7.33115477e+00, -7.34398838e-01],\n",
       "       [-8.67135265e+00, -7.83827476e-01],\n",
       "       [-7.91806397e+00, -9.23706185e-02],\n",
       "       [-7.63679608e+00, -6.05330558e-01],\n",
       "       [-8.08773428e+00, -1.43723017e-01],\n",
       "       [-7.33091514e+00, -5.21005716e-01],\n",
       "       [-8.43204345e+00,  3.86515782e-02],\n",
       "       [-7.88896154e+00, -6.97741866e-01],\n",
       "       [-8.48825585e+00, -3.16931503e-02],\n",
       "       [-8.26954148e+00, -3.03107655e-01],\n",
       "       [-8.31095439e+00, -6.86970190e-01],\n",
       "       [-8.56577385e+00, -7.03277310e-01],\n",
       "       [-8.87310173e+00, -4.86676781e-01],\n",
       "       [-9.04010969e+00, -2.20439548e-01],\n",
       "       [-8.17473542e+00, -2.60303927e-01],\n",
       "       [-7.18818937e+00, -9.06210855e-01],\n",
       "       [-7.16816503e+00, -5.04027293e-01],\n",
       "       [-7.09137441e+00, -6.17967035e-01],\n",
       "       [-7.56169203e+00, -6.31738051e-01],\n",
       "       [-8.47112512e+00,  2.33201477e-01],\n",
       "       [-7.77316387e+00,  7.02277145e-03],\n",
       "       [-8.35999845e+00, -3.64203287e-01],\n",
       "       [-8.86248590e+00, -5.42744247e-01],\n",
       "       [-8.09690317e+00, -3.88580923e-01],\n",
       "       [-7.65014011e+00, -4.47393590e-01],\n",
       "       [-7.35487500e+00, -3.07001282e-01],\n",
       "       [-7.59706973e+00, -1.33935774e-01],\n",
       "       [-8.31786624e+00, -3.27650347e-01],\n",
       "       [-7.58573460e+00, -5.37312835e-01],\n",
       "       [-6.46731014e+00, -5.92917064e-01],\n",
       "       [-7.60792518e+00, -2.91261431e-01],\n",
       "       [-7.76014218e+00, -4.83886538e-01],\n",
       "       [-7.74663273e+00, -4.02665069e-01],\n",
       "       [-8.16605429e+00, -5.87576800e-01],\n",
       "       [-6.45412303e+00, -8.44667937e-01],\n",
       "       [-7.65633266e+00, -4.35383342e-01],\n",
       "       [-9.57836327e+00,  9.24448238e-01],\n",
       "       [-8.38508290e+00,  4.83698860e-01],\n",
       "       [-9.92292893e+00,  3.54391358e-01],\n",
       "       [-9.07982795e+00,  4.40999165e-01],\n",
       "       [-9.45067661e+00,  6.39367781e-01],\n",
       "       [-1.06853784e+01,  5.50910091e-01],\n",
       "       [-7.28450846e+00,  5.10509598e-01],\n",
       "       [-1.02045277e+01,  3.89034423e-01],\n",
       "       [-9.35145579e+00,  4.92769758e-01],\n",
       "       [-1.03869713e+01,  4.48189312e-01],\n",
       "       [-9.07749629e+00,  3.19226354e-02],\n",
       "       [-8.93412584e+00,  3.12662178e-01],\n",
       "       [-9.47689351e+00,  2.49194467e-01],\n",
       "       [-8.20882333e+00,  5.81898751e-01],\n",
       "       [-8.51630812e+00,  7.04685376e-01],\n",
       "       [-9.17824675e+00,  3.59866811e-01],\n",
       "       [-9.20068548e+00,  2.47180559e-01],\n",
       "       [-1.10996491e+01,  3.68325366e-01],\n",
       "       [-1.08360660e+01,  9.16078509e-01],\n",
       "       [-8.22869077e+00,  2.73529093e-01],\n",
       "       [-9.76918228e+00,  3.65670312e-01],\n",
       "       [-8.17858821e+00,  4.75463288e-01],\n",
       "       [-1.07291230e+01,  5.76124085e-01],\n",
       "       [-8.61337122e+00,  5.77038994e-02],\n",
       "       [-9.61817234e+00,  3.33474236e-01],\n",
       "       [-1.00599499e+01,  1.55455472e-01],\n",
       "       [-8.51687860e+00,  1.29753789e-02],\n",
       "       [-8.56785737e+00,  6.45368751e-02],\n",
       "       [-9.17800713e+00,  5.73259934e-01],\n",
       "       [-9.84011120e+00, -1.07170686e-02],\n",
       "       [-1.01491256e+01,  2.93415709e-01],\n",
       "       [-1.10337966e+01, -2.25192507e-02],\n",
       "       [-9.19762642e+00,  6.23627931e-01],\n",
       "       [-8.70198473e+00,  2.88992349e-03],\n",
       "       [-8.75706443e+00,  4.31480979e-01],\n",
       "       [-1.05112105e+01,  2.84090671e-01],\n",
       "       [-9.36318745e+00,  5.88939793e-01],\n",
       "       [-9.16136418e+00,  2.66023783e-01],\n",
       "       [-8.43823600e+00,  5.06618261e-02],\n",
       "       [-9.52530099e+00,  1.05072556e-01],\n",
       "       [-9.55360140e+00,  4.82713427e-01],\n",
       "       [-9.39302562e+00,  1.50933193e-02],\n",
       "       [-8.38508290e+00,  4.83698860e-01],\n",
       "       [-9.81107486e+00,  5.42510495e-01],\n",
       "       [-9.69664951e+00,  5.34946226e-01],\n",
       "       [-9.27216809e+00,  2.08911925e-01],\n",
       "       [-8.62390434e+00,  2.33350584e-01],\n",
       "       [-9.06841011e+00,  1.57201322e-01],\n",
       "       [-9.15677547e+00,  4.61125002e-01],\n",
       "       [-8.53729991e+00,  2.91073753e-01]])"
      ]
     },
     "execution_count": 4,
     "metadata": {},
     "output_type": "execute_result"
    }
   ],
   "source": [
    "U, sigmas, V_T = np.linalg.svd(A)\n",
    "# Singular value matrix\n",
    "S = np.vstack((np.diag(sigmas), np.zeros((96, 4))))\n",
    "# Define C\n",
    "C = U @ S\n",
    "# Define X\n",
    "X = C[:, :2]\n",
    "X"
   ]
  },
  {
   "cell_type": "code",
   "execution_count": 5,
   "id": "52d7fe73",
   "metadata": {},
   "outputs": [
    {
     "name": "stdout",
     "output_type": "stream",
     "text": [
      "Red dots represent the label 0.\n",
      "Blue dots represent the label 1.\n"
     ]
    },
    {
     "data": {
      "image/png": "[encoded data removed]",
      "text/plain": [
       "<Figure size 800x800 with 1 Axes>"
      ]
     },
     "metadata": {
      "needs_background": "light"
     },
     "output_type": "display_data"
    }
   ],
   "source": [
    "import matplotlib.pyplot as plt\n",
    "\n",
    "fig, ax = plt.subplots(figsize=(10,10), dpi=80)\n",
    "colorList = ['red' if y[ind] == 0 else 'blue' for ind in range(100)]\n",
    "ax.scatter(X[:,0], X[:,1], color=colorList)\n",
    "plt.grid(b=True, which='major')\n",
    "print('Red dots represent the label 0.')\n",
    "print('Blue dots represent the label 1.')\n",
    "plt.show()"
   ]
  },
  {
   "cell_type": "markdown",
   "id": "d4fbdbb6",
   "metadata": {},
   "source": [
    "###  b)\n",
    "\n",
    "Let us inspect the matrix $C = U \\Sigma$. Since $\\Sigma$ is a rectangular matrix with 4 nonzero diagonal entries, $100x4$ matrix and the columns of $C$ are linear combinations of columns of $U$ determined by $\\Sigma$, $C$ is composed of just separately scaled columns of $U$. Because $\\Sigma$ has only 1 nonzero entry per column. Therefore, if we take $u_i$ as $i$th column fo $U$ and $\\sigma_i$ as $i$th singular value of $A$, we can say\n",
    "\n",
    "$C = \\begin{bmatrix}\n",
    "\\sigma_1 u_1 & \\sigma_2 u_2 & \\sigma_3 u_3 & \\sigma_4 u_4\\\\\n",
    "\\end{bmatrix}$\n",
    "\n",
    "We also have\n",
    "\n",
    "$X = \\begin{bmatrix}\n",
    "\\sigma_1 u_1 & \\sigma_2 u_2\\\\\n",
    "\\end{bmatrix}$\n",
    "\n",
    "Since scaling the columns does not affect the space spanned by vectors, the columns of $C$ spans the 4-dimensional space which also spanned by the first 4 columns of $U$. By taking only the first 2 columns of $C$ and constructing $X$, the cloumns of $X$ now spans the 2-dimensional space that is spanned by first 2 columns of $C$, which exactly the 2-dimensional space spanned by first 2 columns of $U$. This means the subspace spanned by columns of $X$ is the 2-dimensional space that is spanned by first 2 columns of $U$ or $C$, they span the same space. To give a basis for this 2-dimensinal subspace, we can use the first 2 columns of $U$ since they are orthonormal with unit length.\n",
    "\n",
    "Basis for 2-dimensional subspace : {$\\begin{bmatrix} u_1 \\end{bmatrix}$, $\\begin{bmatrix} u_2 \\end{bmatrix}$}, where $u_1$ and $u_2$ represent the 1st and 2nd column of $U$, respectively.\n",
    "\n",
    "## Question 2\n",
    "\n",
    "### a)\n",
    "\n",
    "Take $z = \\theta^T x$. So we have $\\hat{y} = \\sigma (z)$. I will first inspect the gradient with respect to one data point. So $x_j$ will be a $1x2$ vector with scalar $\\hat{y}_j$ being its prediction and $y_j$ being the expected value. We then define the wanted gradient as\n",
    "\n",
    "$\\nabla_{\\theta_i^{(k)}} L(\\theta) = \\dfrac{\\partial L}{\\partial \\theta_i^{(k)}} = \\dfrac{\\partial L}{\\partial \\hat{y_j}} \\ \\dfrac{\\partial \\hat{y_j}}{\\partial z_j} \\ \\dfrac{\\partial z_j}{\\partial \\theta_i^{(k)}}$.\n",
    "\n",
    "Now, we calculate each part separately.\n",
    "\n",
    "$\\dfrac{\\partial L}{\\partial \\hat{y_j}} = (\\dfrac{-y_j}{\\hat{y}_j} \\ - \\ \\dfrac{1 - y_j}{1 - \\hat{y}_j} (-1)) = (\\dfrac{-y_j}{\\hat{y}_j} \\ + \\dfrac{1 - y_j}{1 - \\hat{y}_j})$\n",
    "\n",
    "We observe that $\\sigma' (x) = \\sigma (x) (1 - \\sigma (x))$. This equation also applies for vectors element-wise, not only scalars. Therefore,\n",
    "\n",
    "$\\dfrac{\\partial \\hat{y_j}}{\\partial z_j} = \\sigma (z_j) (1 - \\sigma (z_j))$\n",
    "\n",
    "We finally have\n",
    "\n",
    "$\\dfrac{\\partial z_j}{\\partial \\theta_i^{(k)}} = x_{j,i}$\n",
    "\n",
    "by the definition of inner product. $x_{j,i}$ is the $i$th element of $j$th row in the dataset matrix $x$. To put every expression together, we get the final form\n",
    "\n",
    "$\\nabla_{\\theta_i^{(k)}} L(\\theta) = \\dfrac{\\partial L}{\\partial \\theta_i^{(k)}} = (\\dfrac{-y_j}{\\hat{y}_j} \\ + \\dfrac{1 - y_j}{1 - \\hat{y}_j}) \\ \\sigma (z_j) (1 - \\sigma (z_j)) \\ x_{j,i}$\n",
    "\n",
    "Now, I will calculate the gradient taking into account the whole dataset. Since every data point's effect on the gradient is evaluated the way given above, and we take mean of all the losses taken from each data point, we take mean of all the gradients we got from whole dataset.\n",
    "\n",
    "$\\nabla_{\\theta_i^{(k)}} L(\\theta) = \\dfrac{\\partial L}{\\partial \\theta_i^{(k)}} = \\dfrac{1}{N} \\sum_{j=1}^N [(\\dfrac{-y_j}{\\hat{y}_j} \\ + \\dfrac{1 - y_j}{1 - \\hat{y}_j}) \\ \\sigma (z_j) (1 - \\sigma (z_j)) \\ x_{j,i} \\ ]$\n",
    "\n",
    "We know that $\\sigma (z_j) = \\hat{y}_j$. We can use this to simplify the exression as \n",
    "\n",
    "$\\nabla_{\\theta_i^{(k)}} L(\\theta) = \\dfrac{\\partial L}{\\partial \\theta_i^{(k)}} = \\dfrac{1}{N} \\sum_{j=1}^N [(\\dfrac{-y_j}{\\hat{y}_j} \\ + \\dfrac{1 - y_j}{1 - \\hat{y}_j}) \\ \\hat{y}_j (1 - \\hat{y}_j)) \\ x_{j,i} \\ ] = \\dfrac{1}{N} \\sum_{j=1}^N [(-y_j (1 - \\hat{y}_j) \\ + (1 - y_j) \\hat{y}_j) \\ x_{j,i} \\ ] = \\dfrac{1}{N} \\sum_{j=1}^N [(-y_j + \\hat{y}_j) \\ x_{j,i} \\ ]$\n",
    "\n",
    "I will also implement the whole model here. The gradient mentioned above will be calculated by automatic differentiation using **jax**."
   ]
  },
  {
   "cell_type": "code",
   "execution_count": 6,
   "id": "7531c892",
   "metadata": {},
   "outputs": [],
   "source": [
    "import jax\n",
    "import jax.numpy as jnp\n",
    "\n",
    "# Sigmoid function\n",
    "def sigmoid(x) :\n",
    "    return 1 / (1 + jnp.exp(-x))\n",
    "\n",
    "# Our Logistic Regression model\n",
    "def model(theta, x):\n",
    "    return sigmoid(x @ theta)\n",
    "\n",
    "# Loss function\n",
    "def logloss(theta, y, x):\n",
    "    pred = model(theta, x)\n",
    "    return jnp.mean(-y * jnp.log(pred) - (1 - y) * jnp.log(1 - pred))\n",
    "\n",
    "# Creates a function that evaluates both loss and gradient of loss w.r.t theta\n",
    "dlogloss = jax.value_and_grad(logloss)"
   ]
  },
  {
   "cell_type": "markdown",
   "id": "5bc74703",
   "metadata": {},
   "source": [
    "### b)"
   ]
  },
  {
   "cell_type": "code",
   "execution_count": 7,
   "id": "34cd7220",
   "metadata": {},
   "outputs": [
    {
     "name": "stderr",
     "output_type": "stream",
     "text": [
      "WARNING:absl:No GPU/TPU found, falling back to CPU. (Set TF_CPP_MIN_LOG_LEVEL=0 and rerun for more info.)\n"
     ]
    },
    {
     "name": "stdout",
     "output_type": "stream",
     "text": [
      "Theta after 1000th iteration:\n",
      " [-0.04136017 10.1252575 ]\n",
      "Logistic loss after 1000th iteration:\n",
      " 0.13006191\n"
     ]
    }
   ],
   "source": [
    "import functools\n",
    "\n",
    "# Update function for theta\n",
    "def _update(theta, dtheta, learning_rate):\n",
    "    return theta - learning_rate * dtheta\n",
    "\n",
    "update = functools.partial(_update, learning_rate=0.05)\n",
    "\n",
    "# Code Snippet 1\n",
    "np.random.seed(0)\n",
    "theta_init = np.random.randn(2)/10\n",
    "\n",
    "# Initialization of variables\n",
    "theta = theta_init\n",
    "K = 10000\n",
    "\n",
    "# Model Training\n",
    "for itr in range(K):\n",
    "    error, dtheta = dlogloss(theta, y, X)\n",
    "    \n",
    "    theta = jax.tree_multimap(update, theta, dtheta)\n",
    "\n",
    "print('Theta after 1000th iteration:\\n', theta)\n",
    "print('Logistic loss after 1000th iteration:\\n', error)"
   ]
  },
  {
   "cell_type": "markdown",
   "id": "6ee71e99",
   "metadata": {},
   "source": [
    "### c)"
   ]
  },
  {
   "cell_type": "code",
   "execution_count": 8,
   "id": "14b2d3e0",
   "metadata": {},
   "outputs": [
    {
     "data": {
      "text/plain": [
       "array([0., 0., 0., 0., 0., 0., 0., 0., 0., 0., 0., 0., 0., 0., 0., 0., 0.,\n",
       "       0., 0., 0., 1., 0., 1., 0., 0., 0., 0., 0., 0., 0., 0., 0., 0., 1.,\n",
       "       1., 0., 0., 0., 0., 0., 0., 0., 0., 0., 0., 0., 0., 0., 0., 0., 1.,\n",
       "       1., 1., 1., 1., 1., 1., 1., 1., 1., 1., 1., 1., 1., 1., 1., 1., 1.,\n",
       "       1., 1., 1., 1., 1., 1., 1., 1., 1., 1., 1., 1., 1., 1., 1., 1., 1.,\n",
       "       1., 1., 1., 1., 1., 1., 1., 1., 1., 1., 1., 1., 1., 1., 1.],\n",
       "      dtype=float32)"
      ]
     },
     "execution_count": 8,
     "metadata": {},
     "output_type": "execute_result"
    }
   ],
   "source": [
    "# Our model's predictions\n",
    "y_hat = np.array(model(theta, X))\n",
    "\n",
    "threshold = 0.5\n",
    "\n",
    "y_hat[y_hat < threshold] = 0\n",
    "y_hat[y_hat >= threshold] = 1\n",
    "\n",
    "y_hat"
   ]
  },
  {
   "cell_type": "code",
   "execution_count": 9,
   "id": "7d340d7e",
   "metadata": {},
   "outputs": [
    {
     "name": "stdout",
     "output_type": "stream",
     "text": [
      "Accuracy score: 0.96\n"
     ]
    }
   ],
   "source": [
    "nofWrong = np.sum(np.abs(y - y_hat))\n",
    "nofData = len(y)\n",
    "accuracy = (nofData - nofWrong) / nofData\n",
    "\n",
    "print('Accuracy score:', accuracy)"
   ]
  },
  {
   "cell_type": "markdown",
   "id": "97534142",
   "metadata": {},
   "source": [
    "### d)"
   ]
  },
  {
   "cell_type": "code",
   "execution_count": 10,
   "id": "edaf3975",
   "metadata": {},
   "outputs": [
    {
     "name": "stdout",
     "output_type": "stream",
     "text": [
      "Red dots represent the label 0.\n",
      "Blue dots represent the label 1.\n"
     ]
    },
    {
     "data": {
      "image/png": "[encoded data removed]",
      "text/plain": [
       "<Figure size 800x800 with 1 Axes>"
      ]
     },
     "metadata": {
      "needs_background": "light"
     },
     "output_type": "display_data"
    }
   ],
   "source": [
    "## Code Snippet 2\n",
    "no_pts = 100\n",
    "x_1 = np.linspace(-11.5, -5, no_pts)\n",
    "x_2 = np.linspace(-1.5, 1.5, no_pts)\n",
    "x_1_grid, x_2_grid = np.meshgrid(x_1, x_2)\n",
    "p_grid = np.zeros((no_pts, no_pts))\n",
    "for i in range(no_pts):\n",
    "    for j in range(no_pts):\n",
    "        x_1 = x_1_grid[i, j]\n",
    "        x_2 = x_2_grid[i, j]\n",
    "        p_grid[i, j] = model(theta, np.array([x_1, x_2]))\n",
    "fig, ax = plt.subplots(figsize=(10,10), dpi=80)\n",
    "colorList = ['red' if y[ind] == 0 else 'blue' for ind in range(100)]\n",
    "ax.scatter(X[:,0], X[:,1], color=colorList)\n",
    "plt.grid(b=True, which='major')\n",
    "print('Red dots represent the label 0.')\n",
    "print('Blue dots represent the label 1.')\n",
    "ax.contour(x_1_grid, x_2_grid, p_grid, levels=[.5]);"
   ]
  },
  {
   "cell_type": "markdown",
   "id": "6d2ebfae",
   "metadata": {},
   "source": [
    "## Question 3\n",
    "\n",
    "### a)\n",
    "\n",
    "To simplify our differentiation expressions, I will define some intermediate variables.\n",
    "Take\n",
    "\n",
    "$z = W_1 x$\n",
    "\n",
    "$v = \\sigma(z)$\n",
    "\n",
    "$u = w_2^T v$ and therefore\n",
    "\n",
    "$\\hat{y} = \\sigma(u)$\n",
    "\n",
    "Call loss function as $L(\\theta)$. I will first inspect the gradient with respect to one data point. So $x_q$ will be a $1x2$ vector with scalar $\\hat{y}_q$ being its prediction and $y_q$ being the expected value. We then define the wanted gradients as\n",
    "\n",
    "$\\nabla_{W_{1,i,j}^{(k)}} L(\\theta) = \\dfrac{\\partial L}{\\partial \\hat{y}_q} \\ \\dfrac{\\partial \\hat{y}_q}{\\partial u_q} \\ \\dfrac{\\partial u_q}{\\partial v_q} \\ \\dfrac{\\partial v_q}{\\partial z_q} \\ \\dfrac{\\partial z_q}{\\partial W_{1,i,j}^{(k)}}$ and\n",
    "\n",
    "$\\nabla_{w_{2,i}^{(k)}} L(\\theta) = \\dfrac{\\partial L}{\\partial \\hat{y}_q} \\ \\dfrac{\\partial \\hat{y}_q}{\\partial u_q} \\ \\dfrac{\\partial u_q}{\\partial w_{2,i}^{(k)}}$\n",
    "\n",
    "Note that the part $\\dfrac{\\partial L}{\\partial \\hat{y}_q} \\ \\dfrac{\\partial \\hat{y}_q}{\\partial u_q}$ are common in both equations and we do not need to calculate them twice. Now we evaluate these intermediate partial derivatives one by one.\n",
    "\n",
    "We already know $\\dfrac{\\partial L}{\\partial \\hat{y}_q}$ from the previous question, so we directly have\n",
    "\n",
    "$\\dfrac{\\partial L}{\\partial \\hat{y}_q} = (\\dfrac{-y_q}{\\hat{y}_q} \\ + \\dfrac{1 - y_q}{1 - \\hat{y}_q})$\n",
    "\n",
    "We acknowledge that $\\sigma' (x) = \\sigma (x) (1 - \\sigma (x))$. Therefore,\n",
    "\n",
    "$\\dfrac{\\partial \\hat{y}_q}{\\partial u_q} = \\sigma(u_q) (1 - \\sigma(u_q))$\n",
    "\n",
    "$\\dfrac{\\partial u_q}{\\partial v_q} = w_2$\n",
    "\n",
    "Since $u_q$ is a scalar and $v_q$ is a $1x5$ vector, output had to be a $1x5$ vector, which is $w_2$.\n",
    "\n",
    "$\\dfrac{\\partial v_q}{\\partial z_q} = \\sigma(z_q) (1 - \\sigma(z_q))$\n",
    "\n",
    "$\\dfrac{\\partial z_q}{\\partial W_{1,i,j}^{(k)}} = e_i \\times x_{q,j}$\n",
    "\n",
    "where $e_i$ is the $1x5$ unit vector with only its $i$th entry is 1 and the other entries are 0. $x_{q,j}$ is the $j$th entry of the $q$th data in the dataset. The output of this partial derivative should be a vector since we differentiated a $1x5$ vector $z_q$ with respect to a scalar. \n",
    "\n",
    "$\\dfrac{\\partial u_q}{\\partial w_{2,i}^{(k)}} = v_{q,i}$\n",
    "\n",
    "Now we can set up the whole expressions for partial derivatives. $x_{q,j}$ represents the entry at $q$th row and $j$ column of $x$.\n",
    "\n",
    "$\\nabla_{W_{1,i,j}^{(k)}} L(\\theta) = (\\dfrac{-y_q}{\\hat{y}_q} \\ + \\dfrac{1 - y_q}{1 - \\hat{y}_q}) \\cdot \\sigma(u_q) \\cdot (1 - \\sigma(u_q)) \\cdot w_2 \\cdot \\sigma(z_q) \\cdot (1 - \\sigma(z_q)) \\cdot e_i \\times x_{q,j}$\n",
    "\n",
    "$\\nabla_{w_{2,i}^{(k)}} L(\\theta) = (\\dfrac{-y_q}{\\hat{y}_q} \\ + \\dfrac{1 - y_q}{1 - \\hat{y}_q}) \\cdot \\sigma(u_q) \\cdot (1 - \\sigma(u_q)) \\cdot v_{q,i}$\n",
    "\n",
    "Now, I will calculate the gradients taking into account the whole dataset. Since every data point's effect on the gradient is evaluated the way given above, and we take mean of all the losses taken from each data point, we take mean of all the gradients we got from whole dataset.\n",
    "\n",
    "$\\nabla_{W_{1,i,j}^{(k)}} L(\\theta) = \\dfrac{1}{N} \\ \\sum_{q=1}^N [(\\dfrac{-y_q}{\\hat{y}_q} \\ + \\dfrac{1 - y_q}{1 - \\hat{y}_q}) \\cdot \\sigma(u_q) \\cdot (1 - \\sigma(u_q)) \\cdot w_2 \\cdot \\sigma(z_q) \\cdot (1 - \\sigma(z_q)) \\cdot e_i \\times x_{q,j} \\ ]$\n",
    "\n",
    "$\\nabla_{w_{2,i}^{(k)}} L(\\theta) = \\dfrac{1}{N} \\ \\sum_{q=1}^N [(\\dfrac{-y_q}{\\hat{y}_q} \\ + \\dfrac{1 - y_q}{1 - \\hat{y}_q}) \\cdot \\sigma(u_q) \\cdot (1 - \\sigma(u_q)) \\cdot v_{q,i} \\ ]$\n",
    "\n",
    "We know that $\\sigma(u_q) = \\hat{y}_q$ and $\\sigma(z_{q,i}) = v_{q,i}$. Therefore we can use this to simplify the exression as\n",
    "\n",
    "$\\nabla_{W_{1,i,j}^{(k)}} L(\\theta) = \\dfrac{1}{N} \\ \\sum_{q=1}^N [((-y_q)(1 - \\hat{y}_q) \\ + (1 - y_q) \\hat{y}_q) \\cdot w_2 \\cdot v_q \\cdot (1 - v_q) \\cdot e_i \\times x_{q,j} \\ ] = \\dfrac{1}{N} \\ \\sum_{q=1}^N [(-y_q \\ + \\hat{y}_q) \\cdot w_2 \\cdot v_q \\cdot (1 - v_q) \\cdot e_i \\times x_{q,j} \\ ]$\n",
    "\n",
    "$\\nabla_{w_{2,i}^{(k)}} L(\\theta) = \\dfrac{1}{N} \\ \\sum_{q=1}^N [((-y_q)(1 - \\hat{y}_q) \\ + (1 - y_q) \\hat{y}_q) \\cdot v_{q,i} \\ ] = \\dfrac{1}{N} \\ \\sum_{q=1}^N [(-y_q \\ + \\hat{y}_q) \\cdot v_{q,i} \\ ]$\n",
    "\n",
    "\n",
    "The model will be implemented below. The code will look similar to the one in **Question 2**."
   ]
  },
  {
   "cell_type": "code",
   "execution_count": 11,
   "id": "bdaa24e0",
   "metadata": {},
   "outputs": [],
   "source": [
    "# theta is assumed to be a dictionary of the form\n",
    "# {'W1':a 5x2 matrix, 'w2':a 1x5 vector}\n",
    "# Our MLP model\n",
    "def mlpmodel(theta, x):\n",
    "    return sigmoid(sigmoid(x @ theta['W1'].T) @ theta['w2'])\n",
    "\n",
    "# Loss function for MLP model\n",
    "def logloss2(theta, y, x):\n",
    "    pred = mlpmodel(theta, x)\n",
    "    return jnp.mean(-y * jnp.log(pred) - (1 - y) * jnp.log(1 - pred))\n",
    "\n",
    "# Creates a function that evaluates both loss and gradient of loss w.r.t theta\n",
    "dlogloss2 = jax.value_and_grad(logloss2)"
   ]
  },
  {
   "cell_type": "markdown",
   "id": "6ee13ef7",
   "metadata": {},
   "source": [
    "### b)\n",
    "\n",
    "To avoid redundancy, **_update** function is directly accessed from **Question 2**."
   ]
  },
  {
   "cell_type": "code",
   "execution_count": 12,
   "id": "30a8d22a",
   "metadata": {
    "scrolled": false
   },
   "outputs": [
    {
     "name": "stdout",
     "output_type": "stream",
     "text": [
      "W1 after 1000th iteration:\n",
      " [[ 0.07696448 -2.5675242 ]\n",
      " [-0.08570716  4.979712  ]\n",
      " [ 0.07757735 -3.468717  ]\n",
      " [ 0.0777639  -3.526541  ]\n",
      " [-0.09593923  0.73583204]]\n",
      "\n",
      "w2 after 1000th iteration:\n",
      " [-3.128934   5.4881005 -4.1036415 -4.174433   0.8745434]\n",
      "\n",
      "Logistic loss after 1000th iteration:\n",
      " 0.10645005\n"
     ]
    }
   ],
   "source": [
    "update2 = functools.partial(_update, learning_rate=0.05)\n",
    "\n",
    "# Code Snippet 3\n",
    "np.random.seed(0)\n",
    "W_1_init = np.random.randn(5, 2)/10\n",
    "w_2_init = np.random.randn(5)/10\n",
    "# We took p=5\n",
    "\n",
    "# Initialization of variables\n",
    "theta = {'W1':W_1_init, 'w2':w_2_init}\n",
    "K = 10000\n",
    "\n",
    "# Model Training\n",
    "for itr in range(K):\n",
    "    error, dtheta = dlogloss2(theta, y, X)\n",
    "    \n",
    "    theta = jax.tree_multimap(update2, theta, dtheta)\n",
    "\n",
    "print('W1 after 1000th iteration:\\n', theta['W1'])\n",
    "print('\\nw2 after 1000th iteration:\\n', theta['w2'])\n",
    "print('\\nLogistic loss after 1000th iteration:\\n', error)"
   ]
  },
  {
   "cell_type": "markdown",
   "id": "029a5bf7",
   "metadata": {},
   "source": [
    "### c)"
   ]
  },
  {
   "cell_type": "code",
   "execution_count": 13,
   "id": "91d438f4",
   "metadata": {},
   "outputs": [
    {
     "data": {
      "text/plain": [
       "array([0., 0., 0., 0., 0., 0., 0., 0., 0., 0., 0., 0., 0., 0., 0., 0., 0.,\n",
       "       0., 0., 0., 1., 0., 0., 0., 0., 0., 0., 0., 0., 0., 0., 0., 0., 1.,\n",
       "       1., 0., 0., 0., 0., 0., 0., 0., 0., 0., 0., 0., 0., 0., 0., 0., 1.,\n",
       "       1., 1., 1., 1., 1., 1., 1., 1., 1., 1., 1., 1., 1., 1., 1., 1., 1.,\n",
       "       1., 1., 1., 1., 1., 1., 1., 1., 1., 1., 1., 1., 1., 1., 1., 1., 1.,\n",
       "       1., 1., 1., 1., 1., 1., 1., 1., 1., 1., 1., 1., 1., 1., 1.],\n",
       "      dtype=float32)"
      ]
     },
     "execution_count": 13,
     "metadata": {},
     "output_type": "execute_result"
    }
   ],
   "source": [
    "# Our model's predictions\n",
    "y_hat2 = np.array(mlpmodel(theta, X))\n",
    "\n",
    "threshold = 0.5\n",
    "\n",
    "y_hat2[y_hat2 < threshold] = 0\n",
    "y_hat2[y_hat2 >= threshold] = 1\n",
    "\n",
    "y_hat2"
   ]
  },
  {
   "cell_type": "code",
   "execution_count": 14,
   "id": "88fa8780",
   "metadata": {},
   "outputs": [
    {
     "name": "stdout",
     "output_type": "stream",
     "text": [
      "Accuracy score: 0.97\n"
     ]
    }
   ],
   "source": [
    "nofWrong = np.sum(np.abs(y - y_hat2))\n",
    "accuracy = (nofData - nofWrong) / nofData\n",
    "\n",
    "print('Accuracy score:', accuracy)"
   ]
  },
  {
   "cell_type": "markdown",
   "id": "d1d824a7",
   "metadata": {},
   "source": [
    "### d)"
   ]
  },
  {
   "cell_type": "code",
   "execution_count": 15,
   "id": "b198d611",
   "metadata": {
    "scrolled": false
   },
   "outputs": [
    {
     "name": "stdout",
     "output_type": "stream",
     "text": [
      "Red dots represent the label 0.\n",
      "Blue dots represent the label 1.\n"
     ]
    },
    {
     "data": {
      "image/png": "[encoded data removed]",
      "text/plain": [
       "<Figure size 800x800 with 1 Axes>"
      ]
     },
     "metadata": {
      "needs_background": "light"
     },
     "output_type": "display_data"
    }
   ],
   "source": [
    "## Code Snippet 2\n",
    "no_pts = 100\n",
    "x_1 = np.linspace(-11.5, -5, no_pts)\n",
    "x_2 = np.linspace(-1.5, 1.5, no_pts)\n",
    "x_1_grid, x_2_grid = np.meshgrid(x_1, x_2)\n",
    "p_grid = np.zeros((no_pts, no_pts))\n",
    "for i in range(no_pts):\n",
    "    for j in range(no_pts):\n",
    "        x_1 = x_1_grid[i, j]\n",
    "        x_2 = x_2_grid[i, j]\n",
    "        p_grid[i, j] = mlpmodel(theta, np.array([x_1, x_2]))\n",
    "fig, ax = plt.subplots(figsize=(10,10), dpi=80)\n",
    "colorList = ['red' if y[ind] == 0 else 'blue' for ind in range(100)]\n",
    "ax.scatter(X[:,0], X[:,1], color=colorList)\n",
    "plt.grid(b=True, which='major')\n",
    "print('Red dots represent the label 0.')\n",
    "print('Blue dots represent the label 1.')\n",
    "ax.contour(x_1_grid, x_2_grid, p_grid, levels=[.5]);"
   ]
  },
  {
   "cell_type": "markdown",
   "id": "bb180697",
   "metadata": {},
   "source": [
    "The decision boundaries derived from both models are very similar to each other, with MLP performing a little bit better. First of all, logistic regression model determine only linear decision boundaries. To see why it is the case, we can set $\\hat{y} = 0.5$ and get $\\dfrac{1}{1 + e^{-z}} = 0.5$, which leads to $z = 0$ and $\\theta_1 x_1 + \\theta_2 x_2 = 0$. This equation proves a linear relation between $x_1$ and $x_2$ on the decision boundary of logistic regression. This argument is a weakness of the logistic regression, but our training was sufficient so that the linear line it drew was very successful and it also got a %96 training set accuracy. The wrong predictions it made was mixed in the cluster of the other label, giving logistic regression a very hard task to overcome with its linear decision boundary. So, this was its kind of a peak performance.\n",
    "\n",
    "MLP had a close decision boundary but it is more successful in the sense that it drew a more crossed line, not very close to a flat like in the logistic regression. This means MLP did a better job separating the clusters. This is caused by the extra hidden layers of MLP and the nonlinearity introduced by utilizing 2 sigmoid functions. This deeper network gives MLP to construct more complex decision boundaries, however, we did not observe a more detailed decision boundary in MLP although it had more slope compared to the decision boundary of logistic regression. This might mean that MLP did not need a complex decision boundary since linear boundary already gives satisfactory and solid results. So it did not use its further capabilities for this dataset since clusters are easy to separate. It also gave a training accuracy of %97, which is fine but it is not a big improvement after the logistic regression. Again, the wrong predictions it made was caused by the mixed 'red' dots into the cluster of 'blue' dots and this case is very hard to solve without very large number of training iterations. By observing its decision boundary, we can conclude that MLP is not likely to solve it in a little bit more optimized parameters. We need to work on in detailed manner to solve it, which will cause model to overfit and perform worse on test sets. The last losses both models got are also very close to each other. 0.13 loss for logistic regression and 0.1 loss for MLP also suggests that MLP used its more deep network with more parameters to do some overfitting on the data while pursuing a linear decision boundary.\n",
    "\n",
    "## Question 4\n",
    "\n",
    "### a)\n",
    "\n",
    "There is no general or always correct method to choose $\\eta$ and $K$ but the usual way is to try a range of different values and use the ones that gives the best performance on the test set. The important points to consider while deciding $\\eta$ are to select small enough so that the loss does not go up in any iteration and big enough that we can finish the training in a reasonable number of steps. The specifications and performance of learning rates are very dependent on the training model, so we need some experiments to decide which is the best. A nice way to generate some $\\eta$s to select is to use **grid search** or **random search**. Grid search defines a space with discrete regular points on it and we try each one to see which is the best. Random search defines the same space but the points are chosen at random locations at this, no pattern is specified. Random search leads to better results since it can catch optimal points of parameters or close ones to optimal. The space defined for these search contains learning rates typically from $10^{-3}$ to $10^{-1}$. The space is considered as a logspace while doing a grid or random search.\n",
    "\n",
    "For number of iterations, we can keep track of the loss function in each iteration and stop the training when we see a dramatical decrease in the improvement of loss values in the iterations. Taking a large $K$ may seem reasonable at first glance, but contiuing training while taking small steps to the optimal leads to overfitting on the training set and worse results on test and validation sets.\n",
    "\n",
    "### b)\n",
    "\n",
    "To see both model's generalization ability, we need to test on unknown data that maybe specified as validation set and test set. We do not have them, so we can not make a exact comment about this. Maybe we could split the dataset by 90/10 or 80/20 and train the models on the larger portion data(training set) and thereafter test their accuracy on smaller portion data(test set). The model that would give the best accuracy on unseen data then would be considered as more successful and the other model would said to be overfit on the training data. The model giving more solid results in the unseen test set has more genearalization since it is more accurate in overall real world conditions containing all kinds of data and does not restrict itself with the training set.\n",
    "\n",
    "### c)\n",
    "\n",
    "$p$ is very closely related to overfitting in neural network models and affect generalization directly. Having bigger $p$ means the system has more parameters and is more flexible to adjust itself for different kinds of data. Having smaller $p$ means the system is rather works in a simpler way and has less parameters, the model tries to capture only the general structure of the data and does not focus on the details. Increasing $p$ seems reasonable but having big $p$s generally result in overfit and cause decrease on test or validation set accuracies. A good practice to select $p$ is to again experimenting on a set of different values. We start with a small $p$ and train the model according to it and then test it by evaluating the test or validation set accuracy. We then increase $p$ a small amount and do this procedure again. We keep on increasing $p$ everytime we get a increased test or validation set accuracy compared to previous model. When we see a decreased test or validation set accuracy after a number of experiments, we understand that the model started to overfit after the last $p$ value we had. We can stop now the experiment and take the last $p$ as the best one since it got the best accuracy on the test set and therefore has the most generalization ability. This was one way of thinking, but there are other factors such as computation power of the machine, our valuable time that may cause us to end up with a smaller $p$ than optimal since more parameters mean more computation time and cost."
   ]
  }
 ],
 "metadata": {
  "kernelspec": {
   "display_name": "cmpe482",
   "language": "python",
   "name": "cmpe482"
  },
  "language_info": {
   "codemirror_mode": {
    "name": "ipython",
    "version": 3
   },
   "file_extension": ".py",
   "mimetype": "text/x-python",
   "name": "python",
   "nbconvert_exporter": "python",
   "pygments_lexer": "ipython3",
   "version": "3.8.5"
  }
 },
 "nbformat": 4,
 "nbformat_minor": 5
}
