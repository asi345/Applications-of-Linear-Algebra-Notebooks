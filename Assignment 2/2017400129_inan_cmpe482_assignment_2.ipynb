{
 "cells": [
  {
   "cell_type": "markdown",
   "metadata": {},
   "source": [
    "### İsmail Ata İnan\n",
    "### 2017400129\n",
    "\n",
    "# Assignment 2 Answers\n",
    "\n",
    "## Question 1\n",
    "\n",
    "First, we create the $v$ vector."
   ]
  },
  {
   "cell_type": "code",
   "execution_count": 44,
   "metadata": {},
   "outputs": [
    {
     "data": {
      "text/plain": [
       "array([ 4, -1])"
      ]
     },
     "execution_count": 44,
     "metadata": {},
     "output_type": "execute_result"
    }
   ],
   "source": [
    "import numpy as np\n",
    "\n",
    "v = np.array([4, -1])\n",
    "v"
   ]
  },
  {
   "cell_type": "markdown",
   "metadata": {},
   "source": [
    "### a)\n",
    "\n",
    "To rotate a $1x2$ vector by $\\theta$ degrees counterclockwise, we use the rotation matrices that has the form $\\begin{bmatrix}\n",
    "cos \\theta & -sin \\theta\\\\\n",
    "sin \\theta & cos \\theta\n",
    "\\end{bmatrix}$. So we must have $R = \\begin{bmatrix}\n",
    "cos30 & -sin30\\\\\n",
    "sin30 & cos30\n",
    "\\end{bmatrix} = \\begin{bmatrix}\n",
    "\\sqrt{3}/2 & -1/2\\\\\n",
    "1/2 & \\sqrt{3}/2\n",
    "\\end{bmatrix}$.\n",
    "\n",
    "To make sure of the calculations, we do them from scratch in the code to obtain $R$."
   ]
  },
  {
   "cell_type": "code",
   "execution_count": 45,
   "metadata": {},
   "outputs": [
    {
     "data": {
      "text/plain": [
       "array([[ 0.8660254, -0.5      ],\n",
       "       [ 0.5      ,  0.8660254]])"
      ]
     },
     "execution_count": 45,
     "metadata": {},
     "output_type": "execute_result"
    }
   ],
   "source": [
    "theta_v = np.radians(30)\n",
    "R = np.array([[np.cos(theta_v), -np.sin(theta_v)], [np.sin(theta_v), np.cos(theta_v)]])\n",
    "R"
   ]
  },
  {
   "cell_type": "markdown",
   "metadata": {},
   "source": [
    "### b)\n",
    "\n",
    "To project a $1x2$ vector representing a point on the $(x,y)$ plane to a line $l$ inclined $\\theta$ degrees with respect tp horizontal, we use the projection matrices that has the form $\\begin{bmatrix}\n",
    "(1/2)(1 + cos 2\\theta) & (1/2) sin 2\\theta\\\\\n",
    "(1/2) sin 2\\theta & (1/2)(1 - cos 2\\theta)\n",
    "\\end{bmatrix}$. We have the line $l = (1, -1)$. The angle $\\theta$ that $l$ makes with horizontal is $tan^{-1}(\\dfrac{-1}{1}) = tan^{-1}(-1) = -\\pi / 2$ radians $= -45$ degrees. Then, we should have $P = \\begin{bmatrix}\n",
    "(1/2)(1 + cos(-90)) & (1/2) sin(-90)\\\\\n",
    "(1/2) sin(-90) & (1/2)(1 - cos(-90))\n",
    "\\end{bmatrix} = \\begin{bmatrix}\n",
    "1/2 & -1/2\\\\\n",
    "-1/2 & 1/2\n",
    "\\end{bmatrix}$.\n",
    "\n",
    "To make sure of the calculations, we do these calculations from scratch in the code and obtain $P$ in the same way above."
   ]
  },
  {
   "cell_type": "code",
   "execution_count": 46,
   "metadata": {},
   "outputs": [
    {
     "data": {
      "text/plain": [
       "array([[ 0.5, -0.5],\n",
       "       [-0.5,  0.5]])"
      ]
     },
     "execution_count": 46,
     "metadata": {},
     "output_type": "execute_result"
    }
   ],
   "source": [
    "theta_l = np.arctan(-1/1)\n",
    "P = np.array([[((1/2) * (1 + np.cos(2 * theta_l))), ((1/2) * np.sin(2 * theta_l))],\n",
    "              [((1/2) * np.sin(2 * theta_l)), ((1/2) * (1 - np.cos(2 * theta_l)))]])\n",
    "P"
   ]
  },
  {
   "cell_type": "markdown",
   "metadata": {},
   "source": [
    "### c)\n",
    "\n",
    "We have our original vector $v$. Call the rotated vector $r$ and the projected vector $p$. Then we get $r = Rv$ and $p = Pv$."
   ]
  },
  {
   "cell_type": "code",
   "execution_count": 47,
   "metadata": {},
   "outputs": [
    {
     "data": {
      "text/plain": [
       "(array([3.96410162, 1.1339746 ]), array([ 2.5, -2.5]))"
      ]
     },
     "execution_count": 47,
     "metadata": {},
     "output_type": "execute_result"
    }
   ],
   "source": [
    "r = R @ v\n",
    "p = P @ v\n",
    "r, p"
   ]
  },
  {
   "cell_type": "code",
   "execution_count": 48,
   "metadata": {},
   "outputs": [
    {
     "data": {
      "image/png": "[encoded data removed]",
      "text/plain": [
       "<Figure size 432x288 with 1 Axes>"
      ]
     },
     "metadata": {
      "needs_background": "light"
     },
     "output_type": "display_data"
    }
   ],
   "source": [
    "import matplotlib.pyplot as plt\n",
    "\n",
    "fig, ax = plt.subplots()\n",
    "\n",
    "# vector v\n",
    "ax.arrow(0,0,v[0],v[1],head_width=0.15,head_length=0.15,color = 'r',label='v')\n",
    "# vector r\n",
    "ax.arrow(0,0,r[0],r[1],head_width=0.15,head_length=0.15,color = 'b',label='r')\n",
    "# vector p\n",
    "ax.arrow(0,0,p[0],p[1],head_width=0.15,head_length=0.15,color = 'g',label='p')\n",
    "\n",
    "# Origin point\n",
    "plt.plot(0,0,'ok')\n",
    "plt.xlim(-0.5, 4.5)\n",
    "plt.ylim(-3, 2)\n",
    "plt.grid(b=True, which='major')\n",
    "plt.legend()\n",
    "plt.show()"
   ]
  },
  {
   "cell_type": "markdown",
   "metadata": {},
   "source": [
    "### d)\n",
    "\n",
    "Call the norm of $v$ as **norm_v**, $r$ as **norm_r**, $p$ as **norm_p**."
   ]
  },
  {
   "cell_type": "code",
   "execution_count": 49,
   "metadata": {},
   "outputs": [
    {
     "name": "stdout",
     "output_type": "stream",
     "text": [
      "Norm of v :  4.123105625617661\n",
      "Norm of r :  4.123105625617661\n",
      "Norm of p :  3.5355339059327378\n"
     ]
    }
   ],
   "source": [
    "norm_v = np.linalg.norm(v)\n",
    "norm_r = np.linalg.norm(r)\n",
    "norm_p = np.linalg.norm(p)\n",
    "\n",
    "print(\"Norm of v : \", norm_v)\n",
    "print(\"Norm of r : \", norm_r)\n",
    "print(\"Norm of p : \", norm_p)"
   ]
  },
  {
   "cell_type": "markdown",
   "metadata": {},
   "source": [
    "We see that $v$ and $r$ has the same norm. This is just we expected, because $r$ is just the rotated version $v$ by $30$ degrees. Rotation in a plane or space does not affect the norm of a vector, it just changes its angles with respect to the axes. If we look from the polar coordinates aspect, rotation just changes the angle entry of the coordinates, the length coordinate is still the same. It is because that the columns of $R$ has norm $1$ by the property $cos^2(theta) + sin^2(theta) = 1$. So, if we represent columns of $R$ by $r_1$ and $r_2$, we have $r = v_1 * r_1 + v_2 * r_2$. Then, $||r|| = \\sqrt{v_1^2 * ||r_1||^2 + (v_1 * v_2) * (r_1^T r_2) + v_2^2 * ||r_2||^2} = \\sqrt{v_1^2 + v_2^2} = ||v||$. Here, $r_1^T r_2$ equals to $0$ since the columns of $R$ is orthogonal by the calculation $cos(\\theta) * -sin(\\theta) + sin(\\theta) * cos(\\theta) = 0$.\n",
    "\n",
    "We also observe that $p$ is shorter than $v$. This result is again expected, since projection of a vector to a line can affect the projected vector length. This length is closely related to the angle between $v$ and $l$, namely $cos(\\theta_v - \\theta_l)$ where $\\theta_v$ is the angle $v$ makes with horizontal and $\\theta_l$ is the angle $l$ makes with horizontal. Thus, the projected vector has the same norm with the original vector when the vector and projected line has angle $0$ or $\\pi$ radians($cos(\\theta_v - \\theta_l) = -1 or 1$). The projected vector has length $0$ when the original vector and the line are orthogonal($cos(\\theta_v - \\theta_l) = 0$). Any other angle between the original vector and the line gives a projected vector length shorter than the original vector($0 < |cos(\\theta_v - \\theta_l)| < 1$).\n",
    "\n",
    "Now let us evaluate the expected length of $p$ by the formula $||proj_v|| = ||v|| cos(\\theta_v - \\theta_l)$."
   ]
  },
  {
   "cell_type": "code",
   "execution_count": 50,
   "metadata": {},
   "outputs": [
    {
     "name": "stdout",
     "output_type": "stream",
     "text": [
      "Expected norm of p :  3.5355339059327378\n"
     ]
    }
   ],
   "source": [
    "expec_norm_p = norm_v * np.cos(theta_v - theta_l)\n",
    "print(\"Expected norm of p : \", norm_p)"
   ]
  },
  {
   "cell_type": "markdown",
   "metadata": {},
   "source": [
    "This result is the same as the real **norm_v**, proving our arguments above.\n",
    "\n",
    "### e)\n",
    "\n",
    "We first plot the columns of $R$."
   ]
  },
  {
   "cell_type": "code",
   "execution_count": 51,
   "metadata": {},
   "outputs": [
    {
     "data": {
      "image/png": "[encoded data removed]",
      "text/plain": [
       "<Figure size 432x288 with 1 Axes>"
      ]
     },
     "metadata": {
      "needs_background": "light"
     },
     "output_type": "display_data"
    }
   ],
   "source": [
    "fig, ax = plt.subplots()\n",
    "\n",
    "ax.arrow(0,0,R[0,0],R[1,0],head_width=0.05,head_length=0.05,color = 'r',label='first column')\n",
    "ax.arrow(0,0,R[0,1],R[1,1],head_width=0.05,head_length=0.05,color = 'b',label='second column')\n",
    "\n",
    "plt.plot(0,0,'ok')\n",
    "plt.xlim(-0.75, 1)\n",
    "plt.ylim(-0.25, 1)\n",
    "plt.grid(b=True, which='major')\n",
    "plt.legend()\n",
    "plt.show()"
   ]
  },
  {
   "cell_type": "markdown",
   "metadata": {},
   "source": [
    "It can be seen that these 2 columns are orthogonal to each other. It is also proved by taking inner product of these columns, leading to\n",
    "$cos(\\theta) \\times -sin(\\theta) + sin(\\theta) \\times cos(\\theta) = 0$.\n",
    "Therefore, a rotation matrix must have orthogonal columns. Another property obtained from $R$ is that each columns has norm $1$. This is also proved by taking norm of each columns indepedently. First columns leads to\n",
    "$\\sqrt{cos^2(\\theta) + sin^2(\\theta)} = 1$\n",
    "and the second columns leads to\n",
    "$\\sqrt{(-sin(\\theta))^2 + cos^2(\\theta)} = 1$.\n",
    "With both columns are orthogonal to each other with their norms being $1$, we conclude that they are orthonormal and $R$ is an orthogonal matrix. \n",
    "\n",
    "We now plot the columns of $P$."
   ]
  },
  {
   "cell_type": "code",
   "execution_count": 52,
   "metadata": {},
   "outputs": [
    {
     "data": {
      "image/png": "[encoded data removed]",
      "text/plain": [
       "<Figure size 432x288 with 1 Axes>"
      ]
     },
     "metadata": {
      "needs_background": "light"
     },
     "output_type": "display_data"
    }
   ],
   "source": [
    "fig, ax = plt.subplots()\n",
    "\n",
    "ax.arrow(0,0,P[0,0],P[1,0],head_width=0.05,head_length=0.05,color = 'r',label='first column')\n",
    "ax.arrow(0,0,P[0,1],P[1,1],head_width=0.05,head_length=0.05,color = 'b',label='second column')\n",
    "\n",
    "plt.plot(0,0,'ok')\n",
    "plt.xlim(-0.6, 0.6)\n",
    "plt.ylim(-0.6, 0.6)\n",
    "plt.grid(b=True, which='major')\n",
    "plt.legend()\n",
    "plt.show()"
   ]
  },
  {
   "cell_type": "markdown",
   "metadata": {},
   "source": [
    "It can be seen that these 2 columns are the reverse of each other, meaning if $i$th entry of first column is $a$, then the $i$th entry of second column is $-a$. So if we call the columns of $P$ as $p_1$ and $p_2$, $p_1 + p_2$ is the $0$ vector. This is not a general property of projection matrices, it is just the case for our special instance $P$. To prove this argument, we take the inner product of $p_1$ and $p_2$ in 2 ways.\n",
    "\n",
    "$p_1^T p_2 = 0.5 \\times -0.5 + -0.5 \\times 0.5 = -0.25 - 0.25 = -0.5$\n",
    "$p_1^T p_2 = ||p_1|| \\times ||p_2|| \\times cos(\\theta) = \\dfrac{1}{\\sqrt{2}} \\times \\dfrac{1}{\\sqrt{2}} \\times cos(\\theta) = 0.5 \\times cos(\\theta)$\n",
    "\n",
    "With $\\theta$ being the angle between $p_1$ and $p_2$, above calculations lead to $\\theta = \\pi$. Then this proves that the first column is the reverse of the second column. But this shows another property. Since $p_1 + p_2 = 0$, they are linearly dependent. So $P$ matrix has linearly dependent columns and they cover only 1 dimension in 2 dimensional space.\n",
    "\n",
    "## Question 2\n",
    "\n",
    "Now, let $v$ denote the $1x5$ vector with its entries sampled from the unit Gaussion distribution."
   ]
  },
  {
   "cell_type": "code",
   "execution_count": 53,
   "metadata": {},
   "outputs": [
    {
     "data": {
      "text/plain": [
       "array([-0.16047389,  0.75734967,  2.24803624,  0.04153923, -0.76337355])"
      ]
     },
     "execution_count": 53,
     "metadata": {},
     "output_type": "execute_result"
    }
   ],
   "source": [
    "v = np.random.normal(size=5)\n",
    "# I took note of the resulting vector from line 1, and pasted it into line 3\n",
    "v = np.array([-0.16047389,  0.75734967,  2.24803624,  0.04153923, -0.76337355])\n",
    "v"
   ]
  },
  {
   "cell_type": "markdown",
   "metadata": {},
   "source": [
    "### a)\n",
    "\n",
    "If we take look at entries of $v$ and create a vector $s$ such that $s_i = \\text{the ascending order of } v_i$, we obtain $s = [2, 4, 5, 3, 1]$. Then, $S$ should be fixing this order to $[1, 2, 3, 4, 5]$. Therefore, we take $S = \\begin{bmatrix}\n",
    "0 & 0 & 0 & 0 & 1\\\\\n",
    "1 & 0 & 0 & 0 & 0\\\\\n",
    "0 & 0 & 0 & 1 & 0\\\\\n",
    "0 & 1 & 0 & 0 & 0\\\\\n",
    "0 & 0 & 1 & 0 & 0\n",
    "\\end{bmatrix}$."
   ]
  },
  {
   "cell_type": "code",
   "execution_count": 54,
   "metadata": {},
   "outputs": [
    {
     "data": {
      "text/plain": [
       "array([[0, 0, 0, 0, 1],\n",
       "       [1, 0, 0, 0, 0],\n",
       "       [0, 0, 0, 1, 0],\n",
       "       [0, 1, 0, 0, 0],\n",
       "       [0, 0, 1, 0, 0]])"
      ]
     },
     "execution_count": 54,
     "metadata": {},
     "output_type": "execute_result"
    }
   ],
   "source": [
    "S = np.array([[0,0,0,0,1],[1,0,0,0,0],[0,0,0,1,0],[0,1,0,0,0],[0,0,1,0,0]])\n",
    "S"
   ]
  },
  {
   "cell_type": "markdown",
   "metadata": {},
   "source": [
    "Then, the sorted vector is $v_s = Sv$."
   ]
  },
  {
   "cell_type": "code",
   "execution_count": 55,
   "metadata": {},
   "outputs": [
    {
     "data": {
      "text/plain": [
       "array([-0.76337355, -0.16047389,  0.04153923,  0.75734967,  2.24803624])"
      ]
     },
     "execution_count": 55,
     "metadata": {},
     "output_type": "execute_result"
    }
   ],
   "source": [
    "v_s = S @ v\n",
    "v_s"
   ]
  },
  {
   "cell_type": "markdown",
   "metadata": {},
   "source": [
    "### b)\n",
    "\n",
    "The reverser matrix should create such a vector $v_k$ that $(v_k)_i = v_{6 - i}$. Then, we take $K = \\begin{bmatrix}\n",
    "0 & 0 & 0 & 0 & 1\\\\\n",
    "0 & 0 & 0 & 1 & 0\\\\\n",
    "0 & 0 & 1 & 0 & 0\\\\\n",
    "0 & 1 & 0 & 0 & 0\\\\\n",
    "1 & 0 & 0 & 0 & 0\n",
    "\\end{bmatrix}$."
   ]
  },
  {
   "cell_type": "code",
   "execution_count": 56,
   "metadata": {},
   "outputs": [
    {
     "data": {
      "text/plain": [
       "array([[0, 0, 0, 0, 1],\n",
       "       [0, 0, 0, 1, 0],\n",
       "       [0, 0, 1, 0, 0],\n",
       "       [0, 1, 0, 0, 0],\n",
       "       [1, 0, 0, 0, 0]])"
      ]
     },
     "execution_count": 56,
     "metadata": {},
     "output_type": "execute_result"
    }
   ],
   "source": [
    "K = np.array([[0,0,0,0,1],[0,0,0,1,0],[0,0,1,0,0],[0,1,0,0,0],[1,0,0,0,0]])\n",
    "K"
   ]
  },
  {
   "cell_type": "markdown",
   "metadata": {},
   "source": [
    "Then, the reversed vector is $v_k = Kv_s$."
   ]
  },
  {
   "cell_type": "code",
   "execution_count": 57,
   "metadata": {},
   "outputs": [
    {
     "data": {
      "text/plain": [
       "array([ 2.24803624,  0.75734967,  0.04153923, -0.16047389, -0.76337355])"
      ]
     },
     "execution_count": 57,
     "metadata": {},
     "output_type": "execute_result"
    }
   ],
   "source": [
    "v_k = K @ v_s\n",
    "v_k"
   ]
  },
  {
   "cell_type": "markdown",
   "metadata": {},
   "source": [
    "### c)\n",
    "\n",
    "Now we create $v_z = S(Kv)$."
   ]
  },
  {
   "cell_type": "code",
   "execution_count": 58,
   "metadata": {},
   "outputs": [
    {
     "data": {
      "text/plain": [
       "array([-0.16047389, -0.76337355,  0.75734967,  0.04153923,  2.24803624])"
      ]
     },
     "execution_count": 58,
     "metadata": {},
     "output_type": "execute_result"
    }
   ],
   "source": [
    "v_z = S @ (K @ v)\n",
    "v_z"
   ]
  },
  {
   "cell_type": "markdown",
   "metadata": {},
   "source": [
    "Obviously, $v_z \\neq v_k$. It is because reversing $v$ first messes up the sorting procedure we implemented using $S$ completely. $S$ only sorts the special $v$ vector we generated, not a random configuration. So to get a sorted vector in descending order, the procedure in this part can not be used.\n",
    "\n",
    "### d)\n",
    "\n",
    "Reversing every column of $S$ using $K$ corresponds to the matrix operation $KS$. Hence, $\\hat{S} = KS$."
   ]
  },
  {
   "cell_type": "code",
   "execution_count": 59,
   "metadata": {},
   "outputs": [
    {
     "data": {
      "text/plain": [
       "array([[0, 0, 1, 0, 0],\n",
       "       [0, 1, 0, 0, 0],\n",
       "       [0, 0, 0, 1, 0],\n",
       "       [1, 0, 0, 0, 0],\n",
       "       [0, 0, 0, 0, 1]])"
      ]
     },
     "execution_count": 59,
     "metadata": {},
     "output_type": "execute_result"
    }
   ],
   "source": [
    "S_hat = K @ S\n",
    "S_hat"
   ]
  },
  {
   "cell_type": "markdown",
   "metadata": {},
   "source": [
    "Then, to sort $v$, we apply $v_h = \\hat{S}v$."
   ]
  },
  {
   "cell_type": "code",
   "execution_count": 60,
   "metadata": {},
   "outputs": [
    {
     "data": {
      "text/plain": [
       "array([ 2.24803624,  0.75734967,  0.04153923, -0.16047389, -0.76337355])"
      ]
     },
     "execution_count": 60,
     "metadata": {},
     "output_type": "execute_result"
    }
   ],
   "source": [
    "v_h = S_hat @ v\n",
    "v_h"
   ]
  },
  {
   "cell_type": "markdown",
   "metadata": {},
   "source": [
    "As it is seen, we get $v_h = v_k$. Because we actually did the same multiplication, but the internal order of these multiplications were different. But this does not effect our final result since $(KS)v = K(Sv)$ by the property of matrix multiplications.\n",
    "\n",
    "### e)\n",
    "\n",
    "In part **2c**, we argued about the statement $KSv = SKv$. But since $KS \\neq SK$, we saw that the statement was wrong. This shows that the matrix multiplication is not commutative.\n",
    "\n",
    "In part **2d**, we argued about the statement $(KS)v = K(Sv)$. This statement is shown to be true since the matrix multiplication is associative.\n",
    "\n",
    "## Question 3\n",
    "\n",
    "We initialize the vector $v = (1, -4, 3, 7, 0, -3)$."
   ]
  },
  {
   "cell_type": "code",
   "execution_count": 61,
   "metadata": {},
   "outputs": [],
   "source": [
    "v = np.array([1, -4, 3, 7, 0, -3])"
   ]
  },
  {
   "cell_type": "markdown",
   "metadata": {},
   "source": [
    "### a)\n",
    "\n",
    "We need a $T$ such that $Tv = \\hat{v}$. $T$ should have a form that can hold a running weighted sum that is evaluated using $v_i, v_{i+1}, v_{i+2}$ for each entry $\\hat{v}_i$. Then, $T$ can be defined as $T = \\begin{bmatrix}\n",
    "0.1 & 0.3 & 0.6 & 0 & 0 & 0\\\\\n",
    "0 & 0.1 & 0.3 & 0.6 & 0 & 0\\\\\n",
    "0 & 0 & 0.1 & 0.3 & 0.6 & 0\\\\\n",
    "0 & 0 & 0 & 0.1 & 0.3 & 0.6\n",
    "\\end{bmatrix}$"
   ]
  },
  {
   "cell_type": "code",
   "execution_count": 62,
   "metadata": {},
   "outputs": [
    {
     "data": {
      "text/plain": [
       "array([[0.1, 0.3, 0.6, 0. , 0. , 0. ],\n",
       "       [0. , 0.1, 0.3, 0.6, 0. , 0. ],\n",
       "       [0. , 0. , 0.1, 0.3, 0.6, 0. ],\n",
       "       [0. , 0. , 0. , 0.1, 0.3, 0.6]])"
      ]
     },
     "execution_count": 62,
     "metadata": {},
     "output_type": "execute_result"
    }
   ],
   "source": [
    "T = np.array([[0.1,0.3,0.6,0,0,0],[0,0.1,0.3,0.6,0,0],[0,0,0.1,0.3,0.6,0],[0,0,0,0.1,0.3,0.6]])\n",
    "T"
   ]
  },
  {
   "cell_type": "markdown",
   "metadata": {},
   "source": [
    "$\\hat{v}$ is then $Tv$."
   ]
  },
  {
   "cell_type": "code",
   "execution_count": 63,
   "metadata": {},
   "outputs": [
    {
     "data": {
      "text/plain": [
       "array([ 0.7,  4.7,  2.4, -1.1])"
      ]
     },
     "execution_count": 63,
     "metadata": {},
     "output_type": "execute_result"
    }
   ],
   "source": [
    "v_hat = T @ v\n",
    "v_hat"
   ]
  },
  {
   "cell_type": "markdown",
   "metadata": {},
   "source": [
    "### b)\n",
    "\n",
    "Yes, $T$ corresponds to a linear function. Call this function $f$. Then we can define $f:R^6 \\rightarrow R^4$ such that $f(x) = Tx$. To prove its linearity, consider $f(\\alpha x + \\beta y)$. We use matrix multiplication properties to show :\n",
    "\n",
    "$f(\\alpha x + \\beta y) = T(\\alpha x + \\beta y) = T \\alpha x + T \\beta y = \\alpha Tx + \\beta Ty = \\alpha f(x) + \\beta f(y)$\n",
    "\n",
    "This expression proves that $f(x)$ is linear, which corresponds to $T$.\n",
    "\n",
    "### c)\n",
    "\n",
    "Suppose now that such a $\\hat{T}$ exists. Then, we get\n",
    "\n",
    "$Tv = \\hat{v} \\rightarrow \\hat{T} Tv = \\hat{T}\\hat{v} = v \\rightarrow \\hat{T} Tv = v$\n",
    "\n",
    "Since $v$ is a nonzero vector, we can cancel it out by using matrix multiplication properties, getting\n",
    "\n",
    "$\\hat{T} T = I$\n",
    "\n",
    "Thus, T should have a left inverse. However, if we look at $T$ closely, it is a $4x6$ vector, meaning it is wide. A wide vector can not have linearly independent columns. So, it also can not have a left inverse. This leads to a contradiction. Our first assumption that a perfect $\\hat{T}$ exists was wrong. Such a $\\hat{T}$ can not exist.\n",
    "\n",
    "### d)\n",
    "\n",
    "We create a system of linear equations for the statement $\\hat{T} \\hat{v} = v$. Since $\\hat{v}$ is a $4x1$ vector and $v$ is a $6x1$ vector, $\\hat{T}$ should have dimensions $6x4$.\n",
    "\n",
    "$\\hat{T}_{11}\\hat{v}_1 + \\hat{T}_{12}\\hat{v}_2 + \\hat{T}_{13}\\hat{v}_3 + \\hat{T}_{14}\\hat{v}_4 = v_1\\\\\n",
    "\\hat{T}_{21}\\hat{v}_1 + \\hat{T}_{22}\\hat{v}_2 + \\hat{T}_{23}\\hat{v}_3 + \\hat{T}_{24}\\hat{v}_4 = v_2\\\\\n",
    "\\hat{T}_{31}\\hat{v}_1 + \\hat{T}_{32}\\hat{v}_2 + \\hat{T}_{33}\\hat{v}_3 + \\hat{T}_{34}\\hat{v}_4 = v_3\\\\\n",
    "\\hat{T}_{41}\\hat{v}_1 + \\hat{T}_{42}\\hat{v}_2 + \\hat{T}_{43}\\hat{v}_3 + \\hat{T}_{44}\\hat{v}_4 = v_4\\\\\n",
    "\\hat{T}_{51}\\hat{v}_1 + \\hat{T}_{52}\\hat{v}_2 + \\hat{T}_{53}\\hat{v}_3 + \\hat{T}_{54}\\hat{v}_4 = v_5\\\\\n",
    "\\hat{T}_{61}\\hat{v}_1 + \\hat{T}_{62}\\hat{v}_2 + \\hat{T}_{63}\\hat{v}_3 + \\hat{T}_{64}\\hat{v}_4 = v_6$\n",
    "\n",
    "Since $\\hat{T}$ is a tall matrix($m > n$), this is a over-determined system. Because, the number of equations are greater than the number of variables in $\\hat{v}$.\n",
    "\n",
    "### e)\n",
    "\n",
    "For this part, we want to approximate $v$ in a way that $||\\hat{v} - Tv||$ is minimized. (Here, $v$ in $||\\hat{v} - Tv||$ is referred as the unknown $v$ vectors, not the one we know in the previous parts). This is a least square problem. The only restriction we have here is that any candidate $\\tilde{v}$ should satisfy the equation\n",
    "\n",
    "$\\hat{T}\\hat{v} = \\tilde{v}$\n",
    "\n",
    "Say that we have found a $\\tilde{v}$ such that\n",
    "\n",
    "$||\\hat{v} - T\\tilde{v}|| \\leq ||\\hat{v} - Tv||$ for all $v$ that are candidate for this problem.\n",
    "\n",
    "Now, we rewrite our minimization expression by replacing $\\tilde{v}$ with $\\hat{T}\\hat{v}$. We can do this due to the restriction $\\hat{T}\\hat{v} = \\tilde{v}$. Then, we get\n",
    "\n",
    "$||\\hat{v} - T\\tilde{v}|| = ||\\hat{v} - T\\hat{T}\\hat{v}|| = ||(I - T\\hat{T})\\hat{v}||$\n",
    "\n",
    "The minimization problem now looks more clear. If we are able to fix a $\\hat{T}$ such that $I = T\\hat{T}$, the minimization problem leads to a distance of $0$. Therefore, we will be sure that the $\\tilde{v}$ is the best least squares approximation for $v$ given in the question.\n",
    "\n",
    "Now, we focus on $T$. $T$ is a $4x6$ matrix, which is wide. We also see that the rows of $T$ are linearly independent. It can be verified by like this : If $\\beta_i$ is the coefficient of row $i$ of $T$ which can be denoted by $t_i^T$, then $\\sum_{i=1}^4 \\beta_i t_i^T = 0$. Since all the first entries of these vectors are $0$ except $t_1^T$, $\\beta_1 = 0$. By a similar argument, $\\beta_4 = 0$. Now we have only 2 vectors to consider, but only $t_1^T$ has now a nonzero number for the second entry. Then, $\\beta_2 = 0$. By a similar argument again, we get also $\\beta_3 = 0$. Hence, we proved that the rows of $T$ are linearly independent. This property allows us to say that $T$ has a right inverse. Let us call it by $T^{\\dagger}$. We have $T^{\\dagger} = T^T (T T^T)^{-1}$.\n",
    "\n",
    "Lastly, we go back to the equation we have been wanting to satify, which is $I = T\\hat{T}$. We were looking for a possible $\\hat{T}$. Since we have the right inverse of $T$ denoted by $T^{\\dagger}$, we can use it. We know that $TT^{\\dagger} = I$. So, take $\\hat{T} = T^{\\dagger} = T^T (T T^T)^{-1}$.\n",
    "\n",
    "We can easily generate the approximation of $v$ called $\\tilde{v}$ by the equation $\\hat{T}\\hat{v} = \\tilde{v}$. Below, I implement the idea I explained above and print $T^{\\dagger}$ and $\\tilde{v}$."
   ]
  },
  {
   "cell_type": "code",
   "execution_count": 64,
   "metadata": {},
   "outputs": [
    {
     "data": {
      "text/plain": [
       "array([[ 0.27750658, -0.13845465,  0.02370752,  0.00723631],\n",
       "       [ 0.69406508, -0.06896774, -0.07977855,  0.04541643],\n",
       "       [ 1.27338303,  0.05755964,  0.03593802, -0.02391427],\n",
       "       [-0.75236903,  1.64938147, -0.00467259,  0.00438773],\n",
       "       [ 0.16395401, -0.83428401,  1.66301329,  0.00179185],\n",
       "       [ 0.04341783,  0.14224509, -0.83072788,  1.66503946]])"
      ]
     },
     "execution_count": 64,
     "metadata": {},
     "output_type": "execute_result"
    }
   ],
   "source": [
    "# T^hat = right inverse of T\n",
    "T_hat = T.T @ np.linalg.inv(T @ T.T)\n",
    "T_hat"
   ]
  },
  {
   "cell_type": "code",
   "execution_count": 65,
   "metadata": {},
   "outputs": [
    {
     "data": {
      "text/plain": [
       "array([-0.40754414, -0.07972939,  1.27445538,  7.20939387,  0.18289383,\n",
       "       -3.1263459 ])"
      ]
     },
     "execution_count": 65,
     "metadata": {},
     "output_type": "execute_result"
    }
   ],
   "source": [
    "# v_tilde\n",
    "v_tilde = T_hat @ v_hat\n",
    "v_tilde"
   ]
  },
  {
   "cell_type": "markdown",
   "metadata": {},
   "source": [
    "Let us also see the residual vector $r = v - \\tilde{v}$ and its norm."
   ]
  },
  {
   "cell_type": "code",
   "execution_count": 66,
   "metadata": {},
   "outputs": [
    {
     "name": "stdout",
     "output_type": "stream",
     "text": [
      "r : [ 1.40754414 -3.92027061  1.72554462 -0.20939387 -0.18289383  0.1263459 ]\n",
      "Norm of r : 4.518900933913123\n"
     ]
    }
   ],
   "source": [
    "r = v - v_tilde\n",
    "print(\"r :\", r)\n",
    "print(\"Norm of r :\", np.linalg.norm(r))"
   ]
  },
  {
   "cell_type": "markdown",
   "metadata": {},
   "source": [
    "### f)\n",
    "\n",
    "Yes, $\\hat{T}$ is a pseudo inverse of $T$. To be more specific, $\\hat{T}$ is the right inverse of $T$. Its reason and derivation is explained in detail in part **Q3e**.\n",
    "\n",
    "\n",
    "## Question 4\n",
    "\n",
    "### a)\n",
    "\n",
    "$A + B$ is not always invertible. Take $A = \\begin{bmatrix}\n",
    "1 & 0\\\\\n",
    "0 & 1\n",
    "\\end{bmatrix}$ and $B = \\begin{bmatrix}\n",
    "-1 & 0\\\\\n",
    "0 & -1\n",
    "\\end{bmatrix}$. They are both invertible since $A = I$ and $B = -I$. But $A + B = \\begin{bmatrix}\n",
    "0 & 0\\\\\n",
    "0 & 0\n",
    "\\end{bmatrix}$, which is singular and not invertible.\n",
    "\n",
    "### b)\n",
    "\n",
    "$\\begin{bmatrix}\n",
    "A & 0\\\\\n",
    "0 & B\n",
    "\\end{bmatrix}$ is invertible. Since $A$ and $B$ are both invertible they have linearly independent rows and columns. Therefore, $\\begin{bmatrix}\n",
    "A & 0\\\\\n",
    "0 & B\n",
    "\\end{bmatrix}$ must have linearly independent rows and columns. So it is invertible. Its inverse is $\\begin{bmatrix}\n",
    "A^{-1} & 0\\\\\n",
    "0 & B^{-1}\n",
    "\\end{bmatrix}$.\n",
    "\n",
    "To test, we calculate $\\begin{bmatrix}\n",
    "A & 0\\\\\n",
    "0 & B\n",
    "\\end{bmatrix} \\begin{bmatrix}\n",
    "A^{-1} & 0\\\\\n",
    "0 & B^{-1}\n",
    "\\end{bmatrix} = \\begin{bmatrix}\n",
    "A^{-1} & 0\\\\\n",
    "0 & B^{-1}\n",
    "\\end{bmatrix} \\begin{bmatrix}\n",
    "A & 0\\\\\n",
    "0 & B\n",
    "\\end{bmatrix} = \\begin{bmatrix}\n",
    "AA^{-1} & 0\\\\\n",
    "0 & BB^{-1}\n",
    "\\end{bmatrix} = \\begin{bmatrix}\n",
    "I_n & 0\\\\\n",
    "0 & I_n\n",
    "\\end{bmatrix} = I_{2n}$\n",
    "\n",
    "### c)\n",
    "\n",
    "$\\begin{bmatrix}\n",
    "A & 0\\\\\n",
    "A+B & B\n",
    "\\end{bmatrix}$ is invertible. Since $A$ and $B$ are both invertible they have linearly independent rows and columns. Therefore, $\\begin{bmatrix}\n",
    "A & 0\\\\\n",
    "A+B & B\n",
    "\\end{bmatrix}$ must have linearly independent rows and columns. So it is invertible. Its inverse is $\\begin{bmatrix}\n",
    "A^{-1} & 0\\\\\n",
    "-A^{-1}-B^{-1} & B^{-1}\n",
    "\\end{bmatrix}$.\n",
    "\n",
    "To test, we calculate $\\begin{bmatrix}\n",
    "A & 0\\\\\n",
    "A+B & B\n",
    "\\end{bmatrix} \\begin{bmatrix}\n",
    "A^{-1} & 0\\\\\n",
    "-A^{-1}-B^{-1} & B^{-1}\n",
    "\\end{bmatrix} = \\begin{bmatrix}\n",
    "A^{-1} & 0\\\\\n",
    "-A^{-1}-B^{-1} & B^{-1}\n",
    "\\end{bmatrix} \\begin{bmatrix}\n",
    "A & 0\\\\\n",
    "A+B & B\n",
    "\\end{bmatrix} = \\begin{bmatrix}\n",
    "AA^{-1} & 0\\\\\n",
    "0 & BB^{-1}\n",
    "\\end{bmatrix} = \\begin{bmatrix}\n",
    "I_n & 0\\\\\n",
    "0 & I_n\n",
    "\\end{bmatrix} = I_{2n}$\n",
    "\n",
    "### d)\n",
    "\n",
    "$ABA$ is invertible. Since $A$ and $B$ are both invertible, $(ABA)^{-1} = A^{-1}B^{-1}A^{-1}$.\n",
    "\n",
    "To test, we have $ABA \\ A^{-1}B^{-1}A^{-1} = AB \\ B^{-1}A^{-1} = A \\ A^{-1} = I$ and $A^{-1}B^{-1}A^{-1} \\ ABA = A^{-1}B^{-1} \\ BA = A^{-1} \\ A = I$.\n",
    "\n",
    "## Question 5\n",
    "\n",
    "### a)"
   ]
  },
  {
   "cell_type": "code",
   "execution_count": 67,
   "metadata": {},
   "outputs": [
    {
     "data": {
      "text/plain": [
       "array([-1.        , -0.89473684, -0.78947368, -0.68421053, -0.57894737,\n",
       "       -0.47368421, -0.36842105, -0.26315789, -0.15789474, -0.05263158,\n",
       "        0.05263158,  0.15789474,  0.26315789,  0.36842105,  0.47368421,\n",
       "        0.57894737,  0.68421053,  0.78947368,  0.89473684,  1.        ])"
      ]
     },
     "execution_count": 67,
     "metadata": {},
     "output_type": "execute_result"
    }
   ],
   "source": [
    "x = np.linspace(-1,1,20)\n",
    "x"
   ]
  },
  {
   "cell_type": "markdown",
   "metadata": {},
   "source": [
    "### b)\n",
    "\n",
    "The noise vector is denoted by $e$."
   ]
  },
  {
   "cell_type": "code",
   "execution_count": 68,
   "metadata": {},
   "outputs": [
    {
     "data": {
      "text/plain": [
       "array([ 0.86160785,  0.590284  ,  0.16822014, -0.13318866, -0.7326916 ,\n",
       "       -0.88892874, -0.96636996, -0.78874945, -0.58608366, -0.13851095,\n",
       "        0.18197885,  0.59994659,  0.84957588,  1.00333502,  0.85063015,\n",
       "        0.51852476,  0.2545871 , -0.20231328, -0.57330311, -0.90065791])"
      ]
     },
     "execution_count": 68,
     "metadata": {},
     "output_type": "execute_result"
    }
   ],
   "source": [
    "# period\n",
    "T = 1.5\n",
    "# noise vector\n",
    "e = np.random.normal(scale=0.1, size=20)\n",
    "y = np.sin(2 * np.pi * x / T) + e\n",
    "y"
   ]
  },
  {
   "cell_type": "code",
   "execution_count": 69,
   "metadata": {},
   "outputs": [
    {
     "data": {
      "image/png": "[encoded data removed]",
      "text/plain": [
       "<Figure size 432x288 with 1 Axes>"
      ]
     },
     "metadata": {
      "needs_background": "light"
     },
     "output_type": "display_data"
    }
   ],
   "source": [
    "fig, ax = plt.subplots()\n",
    "\n",
    "ax.scatter(x, y)\n",
    "plt.grid(b=True, which='major')\n",
    "plt.show()"
   ]
  },
  {
   "cell_type": "markdown",
   "metadata": {},
   "source": [
    "### c)\n",
    "\n",
    "To approximate $y$ with a polynomial of degree at most 10, we need to have $p = 11$, so we need a $20x11$ Vandermonde matrix $V$. For entries of $V$, we use $V_{ij} = x_i^j$."
   ]
  },
  {
   "cell_type": "code",
   "execution_count": 70,
   "metadata": {
    "scrolled": true
   },
   "outputs": [
    {
     "data": {
      "text/plain": [
       "array([[ 1.00000000e+00, -1.00000000e+00,  1.00000000e+00,\n",
       "        -1.00000000e+00,  1.00000000e+00, -1.00000000e+00,\n",
       "         1.00000000e+00, -1.00000000e+00,  1.00000000e+00,\n",
       "        -1.00000000e+00,  1.00000000e+00],\n",
       "       [ 1.00000000e+00, -8.94736842e-01,  8.00554017e-01,\n",
       "        -7.16285173e-01,  6.40886734e-01, -5.73424972e-01,\n",
       "         5.13064449e-01, -4.59057665e-01,  4.10735805e-01,\n",
       "        -3.67500457e-01,  3.28816199e-01],\n",
       "       [ 1.00000000e+00, -7.89473684e-01,  6.23268698e-01,\n",
       "        -4.92054235e-01,  3.88463870e-01, -3.06682003e-01,\n",
       "         2.42117370e-01, -1.91145292e-01,  1.50904178e-01,\n",
       "        -1.19134878e-01,  9.40538507e-02],\n",
       "       [ 1.00000000e+00, -6.84210526e-01,  4.68144044e-01,\n",
       "        -3.20309083e-01,  2.19158846e-01, -1.49950790e-01,\n",
       "         1.02597909e-01, -7.01985691e-02,  4.80305999e-02,\n",
       "        -3.28630420e-02,  2.24852393e-02],\n",
       "       [ 1.00000000e+00, -5.78947368e-01,  3.35180055e-01,\n",
       "        -1.94051611e-01,  1.12345670e-01, -6.50422297e-02,\n",
       "         3.76560277e-02, -2.18008582e-02,  1.26215495e-02,\n",
       "        -7.30721285e-03,  4.23049165e-03],\n",
       "       [ 1.00000000e+00, -4.73684211e-01,  2.24376731e-01,\n",
       "        -1.06283715e-01,  5.03449175e-02, -2.38475925e-02,\n",
       "         1.12962280e-02, -5.35084486e-03,  2.53461072e-03,\n",
       "        -1.20060508e-03,  5.68707669e-04],\n",
       "       [ 1.00000000e+00, -3.68421053e-01,  1.35734072e-01,\n",
       "        -5.00072897e-02,  1.84237383e-02, -6.78769306e-03,\n",
       "         2.50072902e-03, -9.21321219e-04,  3.39434133e-04,\n",
       "        -1.25054681e-04,  4.60727771e-05],\n",
       "       [ 1.00000000e+00, -2.63157895e-01,  6.92520776e-02,\n",
       "        -1.82242309e-02,  4.79585025e-03, -1.26206585e-03,\n",
       "         3.32122593e-04, -8.74006824e-05,  2.30001796e-05,\n",
       "        -6.05267884e-06,  1.59281022e-06],\n",
       "       [ 1.00000000e+00, -1.57894737e-01,  2.49307479e-02,\n",
       "        -3.93643388e-03,  6.21542192e-04, -9.81382408e-05,\n",
       "         1.54955117e-05, -2.44665974e-06,  3.86314696e-07,\n",
       "        -6.09970573e-08,  9.63111431e-09],\n",
       "       [ 1.00000000e+00, -5.26315789e-02,  2.77008310e-03,\n",
       "        -1.45793847e-04,  7.67336039e-06, -4.03861073e-07,\n",
       "         2.12558460e-08, -1.11872874e-09,  5.88804597e-11,\n",
       "        -3.09897157e-12,  1.63103767e-13],\n",
       "       [ 1.00000000e+00,  5.26315789e-02,  2.77008310e-03,\n",
       "         1.45793847e-04,  7.67336039e-06,  4.03861073e-07,\n",
       "         2.12558460e-08,  1.11872874e-09,  5.88804597e-11,\n",
       "         3.09897157e-12,  1.63103767e-13],\n",
       "       [ 1.00000000e+00,  1.57894737e-01,  2.49307479e-02,\n",
       "         3.93643388e-03,  6.21542192e-04,  9.81382408e-05,\n",
       "         1.54955117e-05,  2.44665974e-06,  3.86314696e-07,\n",
       "         6.09970573e-08,  9.63111431e-09],\n",
       "       [ 1.00000000e+00,  2.63157895e-01,  6.92520776e-02,\n",
       "         1.82242309e-02,  4.79585025e-03,  1.26206585e-03,\n",
       "         3.32122593e-04,  8.74006824e-05,  2.30001796e-05,\n",
       "         6.05267884e-06,  1.59281022e-06],\n",
       "       [ 1.00000000e+00,  3.68421053e-01,  1.35734072e-01,\n",
       "         5.00072897e-02,  1.84237383e-02,  6.78769306e-03,\n",
       "         2.50072902e-03,  9.21321219e-04,  3.39434133e-04,\n",
       "         1.25054681e-04,  4.60727771e-05],\n",
       "       [ 1.00000000e+00,  4.73684211e-01,  2.24376731e-01,\n",
       "         1.06283715e-01,  5.03449175e-02,  2.38475925e-02,\n",
       "         1.12962280e-02,  5.35084486e-03,  2.53461072e-03,\n",
       "         1.20060508e-03,  5.68707669e-04],\n",
       "       [ 1.00000000e+00,  5.78947368e-01,  3.35180055e-01,\n",
       "         1.94051611e-01,  1.12345670e-01,  6.50422297e-02,\n",
       "         3.76560277e-02,  2.18008582e-02,  1.26215495e-02,\n",
       "         7.30721285e-03,  4.23049165e-03],\n",
       "       [ 1.00000000e+00,  6.84210526e-01,  4.68144044e-01,\n",
       "         3.20309083e-01,  2.19158846e-01,  1.49950790e-01,\n",
       "         1.02597909e-01,  7.01985691e-02,  4.80305999e-02,\n",
       "         3.28630420e-02,  2.24852393e-02],\n",
       "       [ 1.00000000e+00,  7.89473684e-01,  6.23268698e-01,\n",
       "         4.92054235e-01,  3.88463870e-01,  3.06682003e-01,\n",
       "         2.42117370e-01,  1.91145292e-01,  1.50904178e-01,\n",
       "         1.19134878e-01,  9.40538507e-02],\n",
       "       [ 1.00000000e+00,  8.94736842e-01,  8.00554017e-01,\n",
       "         7.16285173e-01,  6.40886734e-01,  5.73424972e-01,\n",
       "         5.13064449e-01,  4.59057665e-01,  4.10735805e-01,\n",
       "         3.67500457e-01,  3.28816199e-01],\n",
       "       [ 1.00000000e+00,  1.00000000e+00,  1.00000000e+00,\n",
       "         1.00000000e+00,  1.00000000e+00,  1.00000000e+00,\n",
       "         1.00000000e+00,  1.00000000e+00,  1.00000000e+00,\n",
       "         1.00000000e+00,  1.00000000e+00]])"
      ]
     },
     "execution_count": 70,
     "metadata": {},
     "output_type": "execute_result"
    }
   ],
   "source": [
    "V = np.array([[x[i]**j for j in range(11)] for i in range(20)])\n",
    "V"
   ]
  },
  {
   "cell_type": "markdown",
   "metadata": {},
   "source": [
    "### d)\n",
    "\n",
    "Since the $QR$ decomposition is done explicitly in the previous assignment, we use the Gram Schmidt function defined in Assignment 1."
   ]
  },
  {
   "cell_type": "code",
   "execution_count": 71,
   "metadata": {
    "scrolled": true
   },
   "outputs": [
    {
     "data": {
      "text/plain": [
       "array([[ 0.2236068 , -0.3683942 ,  0.43019174, -0.43760939,  0.40514757,\n",
       "        -0.34694765,  0.27676848, -0.20629104,  0.14377084, -0.09360962,\n",
       "         0.05681889],\n",
       "       [ 0.2236068 , -0.32961586,  0.29434172, -0.16122451, -0.02132356,\n",
       "         0.20086443, -0.33503553,  0.40172466, -0.40104498,  0.34980438,\n",
       "        -0.27213256],\n",
       "       [ 0.2236068 , -0.29083753,  0.17358614,  0.03838679, -0.23455912,\n",
       "         0.32260045, -0.2670573 ,  0.09771681,  0.1135033 , -0.29068251,\n",
       "         0.38577033],\n",
       "       [ 0.2236068 , -0.25205919,  0.06792501,  0.1702567 , -0.29309437,\n",
       "         0.21876678,  0.00085687, -0.22417386,  0.31647389, -0.22982177,\n",
       "         0.01811872],\n",
       "       [ 0.2236068 , -0.21328085, -0.02264167,  0.2434174 , -0.24814766,\n",
       "         0.0334774 ,  0.21378865, -0.28452836,  0.12218296,  0.1418635 ,\n",
       "        -0.30599521],\n",
       "       [ 0.2236068 , -0.17450252, -0.09811391,  0.26690108, -0.14362042,\n",
       "        -0.13802716,  0.2757688 , -0.12358302, -0.16090761,  0.28879873,\n",
       "        -0.13377945],\n",
       "       [ 0.2236068 , -0.13572418, -0.15849169,  0.24973993, -0.01609719,\n",
       "        -0.24186082,  0.19322381,  0.10250685, -0.27574624,  0.11056369,\n",
       "         0.19517199],\n",
       "       [ 0.2236068 , -0.09694584, -0.20377504,  0.20096613,  0.1051544 ,\n",
       "        -0.25797294,  0.02784822,  0.24812406, -0.16357828, -0.16330967,\n",
       "         0.26289729],\n",
       "       [ 0.2236068 , -0.05816751, -0.23396393,  0.12961186,  0.19818364,\n",
       "        -0.19262934, -0.14109766,  0.241418  ,  0.06543131, -0.26981597,\n",
       "         0.02585875],\n",
       "       [ 0.2236068 , -0.01938917, -0.24905838,  0.04470932,  0.24835671,\n",
       "        -0.07089333, -0.24506435,  0.09835548,  0.23991481, -0.12780757,\n",
       "        -0.23272875],\n",
       "       [ 0.2236068 ,  0.01938917, -0.24905838, -0.04470932,  0.24835671,\n",
       "         0.07089333, -0.24506435, -0.09835548,  0.23991481,  0.12780757,\n",
       "        -0.23272875],\n",
       "       [ 0.2236068 ,  0.05816751, -0.23396393, -0.12961186,  0.19818364,\n",
       "         0.19262934, -0.14109766, -0.241418  ,  0.06543131,  0.26981597,\n",
       "         0.02585875],\n",
       "       [ 0.2236068 ,  0.09694584, -0.20377504, -0.20096613,  0.1051544 ,\n",
       "         0.25797294,  0.02784822, -0.24812406, -0.16357828,  0.16330967,\n",
       "         0.26289729],\n",
       "       [ 0.2236068 ,  0.13572418, -0.15849169, -0.24973993, -0.01609719,\n",
       "         0.24186082,  0.19322381, -0.10250685, -0.27574624, -0.11056369,\n",
       "         0.19517199],\n",
       "       [ 0.2236068 ,  0.17450252, -0.09811391, -0.26690108, -0.14362042,\n",
       "         0.13802716,  0.2757688 ,  0.12358302, -0.16090761, -0.28879873,\n",
       "        -0.13377945],\n",
       "       [ 0.2236068 ,  0.21328085, -0.02264167, -0.2434174 , -0.24814766,\n",
       "        -0.0334774 ,  0.21378865,  0.28452836,  0.12218296, -0.1418635 ,\n",
       "        -0.30599521],\n",
       "       [ 0.2236068 ,  0.25205919,  0.06792501, -0.1702567 , -0.29309437,\n",
       "        -0.21876678,  0.00085687,  0.22417386,  0.31647389,  0.22982177,\n",
       "         0.01811872],\n",
       "       [ 0.2236068 ,  0.29083753,  0.17358614, -0.03838679, -0.23455912,\n",
       "        -0.32260045, -0.2670573 , -0.09771681,  0.1135033 ,  0.29068251,\n",
       "         0.38577033],\n",
       "       [ 0.2236068 ,  0.32961586,  0.29434172,  0.16122451, -0.02132356,\n",
       "        -0.20086443, -0.33503553, -0.40172466, -0.40104498, -0.34980438,\n",
       "        -0.27213256],\n",
       "       [ 0.2236068 ,  0.3683942 ,  0.43019174,  0.43760939,  0.40514757,\n",
       "         0.34694765,  0.27676848,  0.20629104,  0.14377084,  0.09360962,\n",
       "         0.05681889]])"
      ]
     },
     "execution_count": 71,
     "metadata": {},
     "output_type": "execute_result"
    }
   ],
   "source": [
    "def gramSchmidt(A) :\n",
    "    Q = []\n",
    "    m = len(A)\n",
    "    n = len(A[0])\n",
    "    \n",
    "    # Iterations\n",
    "    for i in range(n) :\n",
    "        # Orthogonalization\n",
    "        q = np.array(A[:,i], dtype=float)\n",
    "        for j in range(i) :\n",
    "            q -= (Q[j] @ A[:,i]) * Q[j]\n",
    "        \n",
    "        # Test if the independency is preserved\n",
    "        indep = False\n",
    "        for j in range(n) :\n",
    "            ## Specifying an interval for the equality with 0\n",
    "            if (abs(q[j] > 10**(-15))) :\n",
    "                indep = True\n",
    "        \n",
    "        if not indep :\n",
    "            print(\"A is linearly dependent!\")\n",
    "            return np.array(Q).T\n",
    "        else :\n",
    "            # Normalization\n",
    "            q /= np.sqrt(sum(np.square(q)))\n",
    "            Q.append(q)\n",
    "    \n",
    "    return np.array(Q).T \n",
    "\n",
    "Q = gramSchmidt(V)\n",
    "Q"
   ]
  },
  {
   "cell_type": "code",
   "execution_count": 72,
   "metadata": {
    "scrolled": true
   },
   "outputs": [
    {
     "data": {
      "text/plain": [
       "array([[ 4.47213595e+00, -8.32667268e-17,  1.64762904e+00,\n",
       "        -2.22044605e-16,  1.08898695e+00, -2.22044605e-16,\n",
       "         8.53990295e-01, -1.38777878e-16,  7.26806868e-01,\n",
       "        -1.94289029e-16,  6.48550124e-01],\n",
       "       [-9.43689571e-16,  2.71448357e+00, -2.22044605e-16,\n",
       "         1.79411573e+00, -3.33066907e-16,  1.40695665e+00,\n",
       "        -3.88578059e-16,  1.19742081e+00, -4.44089210e-16,\n",
       "         1.06849213e+00, -2.22044605e-16],\n",
       "       [ 4.99600361e-16,  3.33066907e-16,  1.46813359e+00,\n",
       "         0.00000000e+00,  1.37924382e+00, -1.66533454e-16,\n",
       "         1.25555326e+00, -5.55111512e-17,  1.15990550e+00,\n",
       "         0.00000000e+00,  1.08934122e+00],\n",
       "       [-7.21644966e-16,  1.83186799e-15, -4.44089210e-16,\n",
       "         7.74796385e-01, -4.44089210e-16,  9.37195997e-01,\n",
       "        -5.55111512e-16,  9.70697356e-01, -3.88578059e-16,\n",
       "         9.69119020e-01, -3.33066907e-16],\n",
       "       [-6.66133815e-16, -6.10622664e-16, -6.10622664e-16,\n",
       "         5.55111512e-16,  4.02707125e-01,  1.11022302e-15,\n",
       "         5.92753248e-01,  1.16573418e-15,  6.86833542e-01,\n",
       "         1.22124533e-15,  7.36705028e-01],\n",
       "       [ 3.71924713e-15, -4.82947016e-15,  2.27595720e-15,\n",
       "        -6.66133815e-15, -2.22044605e-16,  2.06254652e-01,\n",
       "        -1.55431223e-15,  3.55946395e-01, -2.27595720e-15,\n",
       "         4.54920963e-01, -2.60902411e-15],\n",
       "       [ 1.72084569e-15,  2.99760217e-15,  2.22044605e-15,\n",
       "        -1.11022302e-15,  3.27515792e-15,  8.32667268e-16,\n",
       "         1.03916396e-01,  2.66453526e-15,  2.04723936e-01,\n",
       "         4.05231404e-15,  2.85150155e-01],\n",
       "       [-1.11022302e-14,  8.82627305e-15, -5.46784840e-15,\n",
       "         1.80966353e-14,  1.63757896e-15,  4.48807658e-14,\n",
       "        -3.88578059e-16,  5.13647014e-02, -3.94129174e-15,\n",
       "         1.13191498e-01, -7.27196081e-15],\n",
       "       [ 1.06581410e-14, -1.66533454e-15,  5.46784840e-15,\n",
       "         1.02140518e-14, -3.80251386e-15,  5.41233725e-15,\n",
       "        -2.38142839e-14,  8.79851747e-15,  2.48256542e-02,\n",
       "         1.49880108e-14,  6.02091789e-02],\n",
       "       [ 2.97123437e-14, -1.98452366e-15,  1.40443213e-14,\n",
       "        -2.71033196e-14, -8.78463968e-15, -1.71612724e-13,\n",
       "        -2.81719092e-15, -6.02240480e-13, -2.36477504e-14,\n",
       "         1.16864792e-02, -5.86475313e-14],\n",
       "       [-2.36144437e-13, -7.23240912e-14, -1.45133905e-13,\n",
       "        -9.30436284e-14, -8.20593593e-14, -7.52939378e-14,\n",
       "         5.12506704e-14, -8.10046474e-14,  4.20891115e-13,\n",
       "         3.33066907e-14,  5.33340139e-03]])"
      ]
     },
     "execution_count": 72,
     "metadata": {},
     "output_type": "execute_result"
    }
   ],
   "source": [
    "# V = QR means R = Q^T * V\n",
    "R = Q.T @ V\n",
    "R"
   ]
  },
  {
   "cell_type": "markdown",
   "metadata": {},
   "source": [
    "Now, we plot each first 5 column of $Q$ against $x$ as a scatter plot, one by one.\n",
    "\n",
    "1st column:"
   ]
  },
  {
   "cell_type": "code",
   "execution_count": 73,
   "metadata": {},
   "outputs": [
    {
     "data": {
      "image/png": "[encoded data removed]",
      "text/plain": [
       "<Figure size 432x288 with 1 Axes>"
      ]
     },
     "metadata": {
      "needs_background": "light"
     },
     "output_type": "display_data"
    }
   ],
   "source": [
    "fig, ax = plt.subplots()\n",
    "\n",
    "ax.scatter(x, Q[:,0])\n",
    "plt.grid(b=True, which='major')\n",
    "plt.show()"
   ]
  },
  {
   "cell_type": "markdown",
   "metadata": {},
   "source": [
    "2nd column:"
   ]
  },
  {
   "cell_type": "code",
   "execution_count": 74,
   "metadata": {},
   "outputs": [
    {
     "data": {
      "image/png": "[encoded data removed]",
      "text/plain": [
       "<Figure size 432x288 with 1 Axes>"
      ]
     },
     "metadata": {
      "needs_background": "light"
     },
     "output_type": "display_data"
    }
   ],
   "source": [
    "fig, ax = plt.subplots()\n",
    "\n",
    "ax.scatter(x, Q[:,1])\n",
    "plt.grid(b=True, which='major')\n",
    "plt.show()"
   ]
  },
  {
   "cell_type": "markdown",
   "metadata": {},
   "source": [
    "3rd column:"
   ]
  },
  {
   "cell_type": "code",
   "execution_count": 75,
   "metadata": {},
   "outputs": [
    {
     "data": {
      "image/png": "[encoded data removed]",
      "text/plain": [
       "<Figure size 432x288 with 1 Axes>"
      ]
     },
     "metadata": {
      "needs_background": "light"
     },
     "output_type": "display_data"
    }
   ],
   "source": [
    "fig, ax = plt.subplots()\n",
    "\n",
    "ax.scatter(x, Q[:,2])\n",
    "plt.grid(b=True, which='major')\n",
    "plt.show()"
   ]
  },
  {
   "cell_type": "markdown",
   "metadata": {},
   "source": [
    "4th column:"
   ]
  },
  {
   "cell_type": "code",
   "execution_count": 76,
   "metadata": {},
   "outputs": [
    {
     "data": {
      "image/png": "[encoded data removed]",
      "text/plain": [
       "<Figure size 432x288 with 1 Axes>"
      ]
     },
     "metadata": {
      "needs_background": "light"
     },
     "output_type": "display_data"
    }
   ],
   "source": [
    "fig, ax = plt.subplots()\n",
    "\n",
    "ax.scatter(x, Q[:,3])\n",
    "plt.grid(b=True, which='major')\n",
    "plt.show()"
   ]
  },
  {
   "cell_type": "markdown",
   "metadata": {},
   "source": [
    "5th column:"
   ]
  },
  {
   "cell_type": "code",
   "execution_count": 77,
   "metadata": {
    "scrolled": true
   },
   "outputs": [
    {
     "data": {
      "image/png": "[encoded data removed]",
      "text/plain": [
       "<Figure size 432x288 with 1 Axes>"
      ]
     },
     "metadata": {
      "needs_background": "light"
     },
     "output_type": "display_data"
    }
   ],
   "source": [
    "fig, ax = plt.subplots()\n",
    "\n",
    "ax.scatter(x, Q[:,4])\n",
    "plt.grid(b=True, which='major')\n",
    "plt.show()"
   ]
  },
  {
   "cell_type": "markdown",
   "metadata": {},
   "source": [
    "### e)\n",
    "\n",
    "We should use the least squares method to minimize $||y - Qc^{(j)}||$. But there is a restriction here. The entries of $c_i^{(j)} = 0$ if $j < i \\leq 10$. This affects our least squares solution. We can solve this issue by a little trick. We only consider the first $j + 1$ columns of $Q$ and first $j + 1$ entries of $c_i^{(j)}$. We do not need to consider the rest of the entries since we will be sure that $Q_{zi}c_i^{(j)} = 0$ if $j < i$ and for all $z$ in $1 \\leq z \\leq 20$.\n",
    "\n",
    "Now, let us define some notations. Let $Q^{(j)}$ denote the $20x(j+1)$ matrix with first $j + 1$ columns of $Q$. Let $s^{(j)}$ denote the nonzero entries of $c^{(j)}$. Then, our objective now is to minimize $||y - Q^{(j)}s^{(j)}||$. We can solve this problem directly using least square methods. We try to find the entries of $s^{(j)}$ and know $y$ and $Q^{(j)}$. Using our derivations from lectures and the book, we can conclude that the least square solution of this problem is $\\hat{s^{(j)}} = Q^{+(j)} y$, with $Q^{+(j)}$ meaning the left inverse of $Q^{(j)}$. Since the columns of $Q^{(j)}$ are linearly independent and $Q^{(j)}$ is tall, we know for sure that $Q^{+(j)}$ exists. In addition, since we have $Q$ as an orthogonal matrix, we have the property $(Q^{(j)})^T = Q^{+(j)}$. Then, we get the least square solution $\\hat{s^{(j)}} = (Q^{(j)})^T y$.\n",
    "\n",
    "Lastly, we recover $c^{(j)}$ from $s^{(j)}$ by appending $0$ to its end until the size of $s^{(j)}$ is $11$. Then, $c^{(j)} = (\\begin{bmatrix}\n",
    "(s^{(j)})^T & 0_{11 - j - 1}\n",
    "\\end{bmatrix})^T$. This concludes my idea for the solution. Now, I define a function that calculates $c^{(j)}$ for a given $j$."
   ]
  },
  {
   "cell_type": "code",
   "execution_count": 78,
   "metadata": {},
   "outputs": [],
   "source": [
    "def leastSolver(j) :\n",
    "    # Q^(j)\n",
    "    Qj = Q[:, 0:(j+1)]\n",
    "    # the least square solution for s^(j)\n",
    "    sj = Qj.T @ y\n",
    "    # the resulting c^(j)\n",
    "    cj = np.append(sj, np.zeros(11-j-1))\n",
    "    return cj"
   ]
  },
  {
   "cell_type": "markdown",
   "metadata": {},
   "source": [
    "Firstly, we take $j = 0$ and plot $x$ versus original $y$ and approximated value $Qc^{(0)}$."
   ]
  },
  {
   "cell_type": "code",
   "execution_count": 79,
   "metadata": {},
   "outputs": [
    {
     "data": {
      "image/png": "[encoded data removed]",
      "text/plain": [
       "<Figure size 800x800 with 1 Axes>"
      ]
     },
     "metadata": {
      "needs_background": "light"
     },
     "output_type": "display_data"
    }
   ],
   "source": [
    "c0 = leastSolver(0)\n",
    "y0 = Q @ c0\n",
    "\n",
    "fig, ax = plt.subplots(figsize=(10,10), dpi=80)\n",
    "\n",
    "ax.scatter(x, y,label='original y values')\n",
    "ax.scatter(x, y0,color='r',label='approximation with j=0')\n",
    "plt.grid(b=True, which='major')\n",
    "plt.legend()\n",
    "plt.show()"
   ]
  },
  {
   "cell_type": "markdown",
   "metadata": {},
   "source": [
    "We now take $j=5$ and plot $x$ versus original $y$ and approximated value $Qc^{(5)}$."
   ]
  },
  {
   "cell_type": "code",
   "execution_count": 80,
   "metadata": {},
   "outputs": [
    {
     "data": {
      "image/png": "[encoded data removed]",
      "text/plain": [
       "<Figure size 800x800 with 1 Axes>"
      ]
     },
     "metadata": {
      "needs_background": "light"
     },
     "output_type": "display_data"
    }
   ],
   "source": [
    "c5 = leastSolver(5)\n",
    "y5 = Q @ c5\n",
    "\n",
    "fig, ax = plt.subplots(figsize=(10,10), dpi=80)\n",
    "\n",
    "ax.scatter(x, y,label='original y values')\n",
    "ax.scatter(x, y5,color='r',label='approximation with j=5')\n",
    "plt.grid(b=True, which='major')\n",
    "plt.legend()\n",
    "plt.show()"
   ]
  },
  {
   "cell_type": "markdown",
   "metadata": {},
   "source": [
    "We finally take $j=10$ and plot $x$ versus original $y$ and approximated value $Qc^{(10)}$."
   ]
  },
  {
   "cell_type": "code",
   "execution_count": 81,
   "metadata": {},
   "outputs": [
    {
     "data": {
      "image/png": "[encoded data removed]",
      "text/plain": [
       "<Figure size 800x800 with 1 Axes>"
      ]
     },
     "metadata": {
      "needs_background": "light"
     },
     "output_type": "display_data"
    }
   ],
   "source": [
    "c10 = leastSolver(10)\n",
    "y10 = Q @ c10\n",
    "\n",
    "fig, ax = plt.subplots(figsize=(10,10), dpi=80)\n",
    "\n",
    "ax.scatter(x, y,label='original y values')\n",
    "ax.scatter(x, y10,color='r',label='approximation with j=10')\n",
    "plt.grid(b=True, which='major')\n",
    "plt.legend()\n",
    "plt.show()"
   ]
  },
  {
   "cell_type": "markdown",
   "metadata": {},
   "source": [
    "We see that the approximation with $j = 0$ was very unsatisfactory. Because for $j = 0$ we only considered the first column of $Q$, which was derived from the first column of $V$ consisting only $1$s. So from part $d$, the first column of $Q$ consists of only $0.224$s. The $c^{(0)}$ then becomes a vector with single nonzero entry. And the vector $y^{(0)}$ has the same entries for each index. This approximation uses only constants to approximate and is not enough for us.\n",
    "\n",
    "If we look at both approximations with $j = 5$ and $j = 10$, we observe that these approximations are very close to each other and they are both very good at approximating $y$. Then, we understand that using a $5$th order polynomial approximation is enough for getting a reasonable result for approximating sin functions in our system. The $10$th order approximation does not contribute much to our shape, since it was already satisfactory. But the $10$th order polynomial approximation requires bigger matrices and more computations for us for a similar result with $5$th order polynomial approximation, therefore, it reduces the efficiency of our work.\n",
    "\n",
    "### f)\n",
    "\n",
    "We use the same approach taken in **Q5e**. This time, we minimize $||y - Vc^{(j)}||$. Again, with the same arguments, $c_i^{(j)} = 0$ if $j < i \\leq 10$. Taking this into account, we only consider the first $j + 1$ columns of $V$ and first $j + 1$ entries of $c_i^{(j)}$. We do not need to consider the rest of the entries since we will be sure that $V_{zi}c_i^{(j)} = 0$ if $j < i$ and for all $z$ in $1 \\leq z \\leq 20$.\n",
    "\n",
    "Again, we let $V^{(j)}$ denote the $20x(j+1)$ matrix with first $j + 1$ columns of $V$ like in $Q$. Let $s^{(j)}$ denote the nonzero entries of $c^{(j)}$. We now mizimize $||y - V^{(j)}s^{(j)}||$. We can solve this problem directly using least square methods. We try to find the entries of $s^{(j)}$ and know $y$ and $V^{(j)}$. Using our derivations in lectures and the book, we can conclude that the least square solution of this problem is $\\hat{s^{(j)}} = V^{+(j)} y$, with $V^{+(j)}$ meaning the left inverse of $V^{(j)}$. We assume \n",
    "the columns of $V^{(j)}$ are linearly independent and $V^{(j)}$ is tall(it is $20x11$), we know for sure that $V^{+(j)}$ exists. Then, we get the least squares solution\n",
    "\n",
    "$\\hat{s^{(j)}} = ((V^{(j)})^T (V^{(j)}))^{-1} (V^{(j)})^T y$\n",
    "\n",
    "Lastly, again, we recover $c^{(j)}$ from $s^{(j)}$ by appending $0$ to its end until the size of $s^{(j)}$ is $11$. Then, $c^{(j)} = (\\begin{bmatrix}\n",
    "(s^{(j)})^T & 0_{11 - j - 1}\n",
    "\\end{bmatrix})^T$. This concludes my idea for the solution. Defining a new function similar to function **leastSolver** above, I calculate the approximations."
   ]
  },
  {
   "cell_type": "code",
   "execution_count": 82,
   "metadata": {},
   "outputs": [],
   "source": [
    "def leastSolver2(j) :\n",
    "    # V^(j)\n",
    "    Vj = V[:, 0:(j+1)]\n",
    "    # the least square solution for s^(j)\n",
    "    sj = np.linalg.inv(Vj.T @ Vj) @ Vj.T @ y\n",
    "    # the resulting c^(j)\n",
    "    cj = np.append(sj, np.zeros(11-j-1))\n",
    "    return cj"
   ]
  },
  {
   "cell_type": "markdown",
   "metadata": {},
   "source": [
    "Firstly, we take $j = 0$ and plot $x$ versus original $y$ and approximated value $Vc^{(0)}$."
   ]
  },
  {
   "cell_type": "code",
   "execution_count": 83,
   "metadata": {},
   "outputs": [
    {
     "data": {
      "image/png": "[encoded data removed]",
      "text/plain": [
       "<Figure size 800x800 with 1 Axes>"
      ]
     },
     "metadata": {
      "needs_background": "light"
     },
     "output_type": "display_data"
    }
   ],
   "source": [
    "c02 = leastSolver2(0)\n",
    "y02 = V @ c02\n",
    "\n",
    "fig, ax = plt.subplots(figsize=(10,10), dpi=80)\n",
    "\n",
    "ax.scatter(x,y,label='original y values')\n",
    "ax.scatter(x,y02,color='r',label='approximation with j=0')\n",
    "plt.grid(b=True, which='major')\n",
    "plt.legend()\n",
    "plt.show()"
   ]
  },
  {
   "cell_type": "markdown",
   "metadata": {},
   "source": [
    "Now, we take $j = 5$ and plot $x$ versus original $y$ and approximated value $Vc^{(5)}$."
   ]
  },
  {
   "cell_type": "code",
   "execution_count": 84,
   "metadata": {},
   "outputs": [
    {
     "data": {
      "image/png": "[encoded data removed]",
      "text/plain": [
       "<Figure size 800x800 with 1 Axes>"
      ]
     },
     "metadata": {
      "needs_background": "light"
     },
     "output_type": "display_data"
    }
   ],
   "source": [
    "c52 = leastSolver2(5)\n",
    "y52 = V @ c52\n",
    "\n",
    "fig, ax = plt.subplots(figsize=(10,10), dpi=80)\n",
    "\n",
    "ax.scatter(x,y,label='original y values')\n",
    "ax.scatter(x,y52,color='r',label='approximation with j=5')\n",
    "plt.grid(b=True, which='major')\n",
    "plt.legend()\n",
    "plt.show()"
   ]
  },
  {
   "cell_type": "markdown",
   "metadata": {},
   "source": [
    "Now, we take $j = 10$ and plot $x$ versus original $y$ and approximated value $Vc^{(10)}$."
   ]
  },
  {
   "cell_type": "code",
   "execution_count": 85,
   "metadata": {},
   "outputs": [
    {
     "data": {
      "image/png": "[encoded data removed]",
      "text/plain": [
       "<Figure size 800x800 with 1 Axes>"
      ]
     },
     "metadata": {
      "needs_background": "light"
     },
     "output_type": "display_data"
    }
   ],
   "source": [
    "c102 = leastSolver2(10)\n",
    "y102 = V @ c102\n",
    "\n",
    "fig, ax = plt.subplots(figsize=(10,10), dpi=80)\n",
    "\n",
    "ax.scatter(x,y,label='original y values')\n",
    "ax.scatter(x,y102,color='r',label='approximation with j=10')\n",
    "plt.grid(b=True, which='major')\n",
    "plt.legend()\n",
    "plt.show()"
   ]
  },
  {
   "cell_type": "markdown",
   "metadata": {},
   "source": [
    "The approximation using $V$ with $j = 0$, $j = 5$ and $j = 10$ is nearly the same as done with using $Q$. From the plots, it is seen that the accuracy of approximations for both versions are very similar. Also, for both cases, for $j = 5$ and $j = 10$, the approximations are very close to the original $y$ values. From the approximation perspective, both of them can said to be have good performances for $j \\geq 5$. This result is strongly related to the columns of $V$ and $Q$. Since $Q$ is the orthogonal matrix derived from $V$, $Q$ and $V$ both span the same subspace. They just give different basis vectors for spanning. As a result, they can cover and approximate all functions at their column space at the same degree. Because the space that the approximation is done is the same for both matrices. However, using $Q$ for approximations are better for our applications. Let us take a look at the $c^{(j)}$ vectors for $j = 5,10$ for both methods."
   ]
  },
  {
   "cell_type": "code",
   "execution_count": 86,
   "metadata": {},
   "outputs": [
    {
     "name": "stdout",
     "output_type": "stream",
     "text": [
      "Approximation using Q, j=5 -> c^(5): [-0.00717934  0.02901793 -0.03318925 -2.76865297  0.03422207  1.00545288\n",
      "  0.          0.          0.          0.          0.        ]\n",
      "Approximation using Q, j=10 -> c^(10): [-0.00717934  0.02901793 -0.03318925 -2.76865297  0.03422207  1.00545288\n",
      " -0.06740819 -0.12824214 -0.00668681 -0.04566232  0.06631311]\n",
      "Approximation using V, j=5 -> c^(5): [ 0.01544311  3.74311052 -0.10244126 -9.46998259  0.08498004  4.87481308\n",
      "  0.          0.          0.          0.          0.        ]\n",
      "Approximation using V, j=10 -> c^(10): [ 1.30126259e-02  3.87309763e+00  6.09715414e-01 -9.90433018e+00\n",
      " -7.82138275e+00  2.94201965e+00  2.51714358e+01  6.11370203e+00\n",
      " -3.04241992e+01 -3.90727776e+00  1.24335500e+01]\n"
     ]
    }
   ],
   "source": [
    "print(\"Approximation using Q, j=5 -> c^(5):\", c5)\n",
    "print(\"Approximation using Q, j=10 -> c^(10):\", c10)\n",
    "print(\"Approximation using V, j=5 -> c^(5):\", c52)\n",
    "print(\"Approximation using V, j=10 -> c^(10):\", c102)"
   ]
  },
  {
   "cell_type": "markdown",
   "metadata": {},
   "source": [
    "If we inspect these vectors, for same $j$ values, the entries of the vector that is generated using $Q$ are much smaller than the one generated by using $V$. This is because the columns of $Q$ are orthonormal. To create a sinusodial pattern, we use the columns that give similar shapes when we use $V$. Therefore, to cancel out these shapes and increase the gap between these similar shapes, we need larger entries in $c^{(j)}$. On the other hand, we do not encounter such a situation while using $Q$, because its columns are orthogonal and have less relationship with each other. Hence, every columns of $Q$ gives the plot a different shape. This way, we can have smaller entries in $c^{(j)}$ to approximate $y$."
   ]
  }
 ],
 "metadata": {
  "kernelspec": {
   "display_name": "cmpe482",
   "language": "python",
   "name": "cmpe482"
  },
  "language_info": {
   "codemirror_mode": {
    "name": "ipython",
    "version": 3
   },
   "file_extension": ".py",
   "mimetype": "text/x-python",
   "name": "python",
   "nbconvert_exporter": "python",
   "pygments_lexer": "ipython3",
   "version": "3.8.5"
  }
 },
 "nbformat": 4,
 "nbformat_minor": 4
}
